{
 "cells": [
  {
   "cell_type": "markdown",
   "id": "fd1ca206",
   "metadata": {},
   "source": [
    "# Inspecting a LAS/LAZ file"
   ]
  },
  {
   "cell_type": "code",
   "execution_count": null,
   "id": "02c63012",
   "metadata": {},
   "outputs": [],
   "source": [
    "pdal --version"
   ]
  },
  {
   "cell_type": "code",
   "execution_count": null,
   "id": "77056288",
   "metadata": {},
   "outputs": [],
   "source": [
    "ls -l ./data"
   ]
  },
  {
   "cell_type": "markdown",
   "id": "1520e393",
   "metadata": {},
   "source": [
    "In general, it is best to use absolute paths to specify paths to datafiles.  Relative paths may cause issues."
   ]
  },
  {
   "cell_type": "code",
   "execution_count": null,
   "id": "8a0db08a",
   "metadata": {},
   "outputs": [],
   "source": [
    "pwd"
   ]
  },
  {
   "cell_type": "code",
   "execution_count": null,
   "id": "34356ef4",
   "metadata": {},
   "outputs": [],
   "source": [
    "laz_file=$PWD'/data/FoxIsland.laz'\n",
    "CWD=`pwd`\n",
    "echo $laz_file\n",
    "echo $CWD"
   ]
  },
  {
   "cell_type": "markdown",
   "id": "7f1dfee1",
   "metadata": {},
   "source": [
    "## Metadata"
   ]
  },
  {
   "cell_type": "code",
   "execution_count": null,
   "id": "3083b9e2",
   "metadata": {},
   "outputs": [],
   "source": [
    "pdal info --metadata $laz_file"
   ]
  },
  {
   "cell_type": "markdown",
   "id": "04764fe5",
   "metadata": {},
   "source": [
    "To get the schema for a dataset:"
   ]
  },
  {
   "cell_type": "code",
   "execution_count": null,
   "id": "54da06d0",
   "metadata": {},
   "outputs": [],
   "source": [
    "pdal info --schema ./data/FoxIsland.laz"
   ]
  },
  {
   "cell_type": "markdown",
   "id": "575d35f3",
   "metadata": {},
   "source": [
    "To get an overall metadata summary for a dataset:"
   ]
  },
  {
   "cell_type": "code",
   "execution_count": null,
   "id": "1f0004d4",
   "metadata": {},
   "outputs": [],
   "source": [
    "pdal info $laz_file --summary"
   ]
  },
  {
   "cell_type": "markdown",
   "id": "73649ea2",
   "metadata": {},
   "source": [
    "## Printing Points"
   ]
  },
  {
   "cell_type": "markdown",
   "id": "bdd2c04b",
   "metadata": {},
   "source": [
    "Print the values for the first point in the file:"
   ]
  },
  {
   "cell_type": "code",
   "execution_count": null,
   "id": "d65bb644",
   "metadata": {},
   "outputs": [],
   "source": [
    "pdal info $laz_file -p 0"
   ]
  },
  {
   "cell_type": "markdown",
   "id": "1131ff0b",
   "metadata": {},
   "source": [
    "Print the values for the first 5 points in the file"
   ]
  },
  {
   "cell_type": "code",
   "execution_count": null,
   "id": "b12b4d2d",
   "metadata": {},
   "outputs": [],
   "source": [
    "pdal info $laz_file -p 0-10"
   ]
  },
  {
   "cell_type": "markdown",
   "id": "9017a7ea",
   "metadata": {},
   "source": [
    "Print the first 10 points, and extract only the elevation values using bash commands"
   ]
  },
  {
   "cell_type": "code",
   "execution_count": null,
   "id": "df26c504",
   "metadata": {},
   "outputs": [],
   "source": [
    "pdal info $laz_file -p 0-10|grep  \"Z\"|awk '{print $2}' FS=': '"
   ]
  },
  {
   "cell_type": "markdown",
   "id": "708d14f9",
   "metadata": {},
   "source": [
    "jq is a command line JSON parser, and can be a useful tool for these types of operations. Note if returning more than one point, specify \"[]\" to return all the points in the array."
   ]
  },
  {
   "cell_type": "code",
   "execution_count": null,
   "id": "35f2936f",
   "metadata": {},
   "outputs": [],
   "source": [
    "pdal info $laz_file -p 0-10|jq -r .points.point[].Z"
   ]
  },
  {
   "cell_type": "markdown",
   "id": "c9c2e287",
   "metadata": {},
   "source": [
    "## Attribute Statistics"
   ]
  },
  {
   "cell_type": "markdown",
   "id": "4711f31f",
   "metadata": {},
   "source": [
    "Use the [info application](https://pdal.io/en/2.4.3/apps/info.html) with the --stats flag and perform filtering to get a summary of the classifications for a given lidar file."
   ]
  },
  {
   "cell_type": "code",
   "execution_count": null,
   "id": "b03aae94",
   "metadata": {},
   "outputs": [],
   "source": [
    "pdal info ./data/FoxIsland.laz --stats --filters.stats.dimensions=Classification  --filters.stats.count=Classification"
   ]
  },
  {
   "cell_type": "markdown",
   "id": "da40d487",
   "metadata": {},
   "source": [
    "Perform both a metadata dump and count of Classification and ReturnNumber and output to a JSON file:"
   ]
  },
  {
   "cell_type": "code",
   "execution_count": null,
   "id": "46f8cd4f",
   "metadata": {},
   "outputs": [],
   "source": [
    "pdal info --metadata --stats --filters.stats.dimensions=ReturnNumber,Classification --filters.stats.count=ReturnNumber,Classification ./data/FoxIsland.laz > ./data/fileinfo.json"
   ]
  },
  {
   "cell_type": "markdown",
   "id": "b803428c",
   "metadata": {},
   "source": [
    "## Reprojection"
   ]
  },
  {
   "cell_type": "code",
   "execution_count": null,
   "id": "f87f3ccb",
   "metadata": {},
   "outputs": [],
   "source": [
    "ls"
   ]
  },
  {
   "cell_type": "markdown",
   "id": "ff9a2a95",
   "metadata": {},
   "source": [
    "Run a pipeline to project a file from Oregon Lambert to Geographic Lat/Lon coordindates:"
   ]
  },
  {
   "cell_type": "code",
   "execution_count": null,
   "id": "be40bfca",
   "metadata": {},
   "outputs": [],
   "source": [
    "pdal pipeline ./pipelines/Reproject_Ex.json"
   ]
  },
  {
   "cell_type": "code",
   "execution_count": null,
   "id": "5bcbe071",
   "metadata": {},
   "outputs": [],
   "source": [
    "ls ./data"
   ]
  },
  {
   "cell_type": "markdown",
   "id": "7e8a65d0",
   "metadata": {},
   "source": [
    "Inspect the coordinates to make sure the xy values make sense.."
   ]
  },
  {
   "cell_type": "code",
   "execution_count": null,
   "id": "2b2b92e3",
   "metadata": {},
   "outputs": [],
   "source": [
    "pdal info --metadata ./data/FoxIsland_4326.laz"
   ]
  },
  {
   "cell_type": "markdown",
   "id": "ea52650a",
   "metadata": {},
   "source": [
    "# Tiling data"
   ]
  },
  {
   "cell_type": "code",
   "execution_count": 59,
   "id": "7dd73da9",
   "metadata": {
    "ExecuteTime": {
     "end_time": "2023-04-29T22:25:46.208914Z",
     "start_time": "2023-04-29T22:25:42.342489Z"
    }
   },
   "outputs": [],
   "source": [
    "pdal pipeline ./pipelines/TileLAZ.json"
   ]
  },
  {
   "cell_type": "markdown",
   "id": "74a19076",
   "metadata": {},
   "source": [
    "# Thinning data"
   ]
  },
  {
   "cell_type": "markdown",
   "id": "80909ed8",
   "metadata": {},
   "source": [
    "Point cloud files can often be quite large and cumbersome to work with.  Depending on the objective, it is often useful to thin a dataset in order to make it easier and faster to work with. The [filters.sample](https://pdal.io/en/2.5.3/stages/filters.sample.html#filters-sample) utilizes a Poisson sampling to thin the dataset."
   ]
  },
  {
   "cell_type": "code",
   "execution_count": 60,
   "id": "7928d5c7",
   "metadata": {
    "ExecuteTime": {
     "end_time": "2023-04-29T22:27:40.987839Z",
     "start_time": "2023-04-29T22:27:35.521379Z"
    }
   },
   "outputs": [],
   "source": [
    "pdal translate ./data/FoxIsland.laz ./data/FoxIsland_Thin1m.laz sample --filters.sample.radius=1"
   ]
  },
  {
   "cell_type": "markdown",
   "id": "a522bfeb",
   "metadata": {},
   "source": [
    "## Calculating a Boundary"
   ]
  },
  {
   "cell_type": "markdown",
   "id": "c56c54f1",
   "metadata": {},
   "source": [
    "Utilizing the info command, the boundary of a dataset can be obtained by using the \"--boundary\" flag.  This will output the boundary in WKT format in JSON-formatted output."
   ]
  },
  {
   "cell_type": "code",
   "execution_count": null,
   "id": "ff612158",
   "metadata": {},
   "outputs": [],
   "source": [
    "ls"
   ]
  },
  {
   "cell_type": "markdown",
   "id": "c3214843",
   "metadata": {},
   "source": [
    "Use the \"--boundary\" flag to get the boundary of data over the Siuslaw River:"
   ]
  },
  {
   "cell_type": "code",
   "execution_count": 61,
   "id": "a6b62a98",
   "metadata": {
    "ExecuteTime": {
     "end_time": "2023-04-29T22:28:34.346427Z",
     "start_time": "2023-04-29T22:28:27.361794Z"
    }
   },
   "outputs": [
    {
     "name": "stdout",
     "output_type": "stream",
     "text": [
      "{\n",
      "  \"boundary\":\n",
      "  {\n",
      "    \"area\": 121120450.7,\n",
      "    \"avg_pt_per_sq_unit\": 36.11257303,\n",
      "    \"avg_pt_spacing\": 3.432894977,\n",
      "    \"boundary\": \"POLYGON ((418069.16 839889.38,420190.35 839889.38,420367.12 842032.55,418245.93 843257.22,417538.86 844481.89,417715.63 845400.39,419660.05 845706.56,421958.01 844788.06,422841.84 845094.22,426200.39 842951.05,429735.71 842951.05,430442.77 843563.39,431326.6 843257.22,432563.96 844788.06,431856.9 845400.39,432033.66 846318.89,431326.6 846931.23,431326.6 848155.9,432563.96 849074.4,433978.09 848462.07,434508.38 849992.9,433094.26 850605.24,432387.19 851829.91,431503.37 851523.74,428851.88 853054.58,428675.11 853973.08,427614.52 854585.42,426730.69 854279.25,425139.79 855197.75,423902.43 857340.92,422488.31 857340.92,422311.54 855810.09,423548.9 853666.91,426553.92 852136.08,426730.69 851217.57,427614.52 850911.41,428851.88 848768.23,428851.88 846931.23,428144.81 845706.56,427260.98 845400.39,423372.14 847849.73,418776.22 847849.73,417715.63 848462.07,417008.56 847849.73,416124.74 848155.9,412412.65 846012.73,412412.65 842951.05,414003.55 842032.55,414887.37 842338.72,415947.97 841726.38,416124.74 840807.88,418069.16 839889.38))\",\n",
      "    \"boundary_json\": { \"type\": \"Polygon\", \"coordinates\": [ [ [ 418069.159865850000642, 839889.378091669990681 ], [ 420190.350155170017388, 839889.378091669990681 ], [ 420367.116012619982939, 842032.550215149996802 ], [ 418245.925723300024401, 843257.21999999997206 ], [ 417538.862293520011008, 844481.889784849947318 ], [ 417715.628150969976559, 845400.392123479978181 ], [ 419660.052582840027753, 845706.559569690027274 ], [ 421958.00872961001005, 844788.057231059996411 ], [ 422841.838016820023768, 845094.224677270045504 ], [ 426200.389308249985334, 842951.052553790039383 ], [ 429735.706457110005431, 842951.052553790039383 ], [ 430442.769886880007107, 843563.387446210021153 ], [ 431326.599174099974334, 843257.21999999997206 ], [ 432563.960176200023852, 844788.057231059996411 ], [ 431856.896746430022176, 845400.392123479978181 ], [ 432033.66260386997601, 846318.894462110009044 ], [ 431326.599174099974334, 846931.229354540002532 ], [ 431326.599174099974334, 848155.899139379966073 ], [ 432563.960176200023852, 849074.401478020008653 ], [ 433978.087035749980714, 848462.066585590015166 ], [ 434508.384608080028556, 849992.903816650039516 ], [ 433094.257748530013487, 850605.238709070021287 ], [ 432387.194318760011811, 851829.908493919996545 ], [ 431503.365031539986376, 851523.741047709947452 ], [ 428851.877169889979996, 853054.578278769971803 ], [ 428675.111312450026162, 853973.080617400002666 ], [ 427614.516167789988685, 854585.415509819984436 ], [ 426730.686880570021458, 854279.248063610051759 ], [ 425139.794163590006065, 855197.750402249977924 ], [ 423902.433161480003037, 857340.922525729984045 ], [ 422488.306301939999685, 857340.922525729984045 ], [ 422311.540444489975926, 855810.085294669959694 ], [ 423548.901446599978954, 853666.913171189953573 ], [ 426553.921023130009416, 852136.075940130045637 ], [ 426730.686880570021458, 851217.573601500014775 ], [ 427614.516167789988685, 850911.406155289965682 ], [ 428851.877169889979996, 848768.234031809959561 ], [ 428851.877169889979996, 846931.229354540002532 ], [ 428144.81374011997832, 845706.559569690027274 ], [ 427260.984452900011092, 845400.392123479978181 ], [ 423372.135589150013402, 847849.731693170033395 ], [ 418776.223295630014036, 847849.731693170033395 ], [ 417715.628150969976559, 848462.066585590015166 ], [ 417008.564721199974883, 847849.731693170033395 ], [ 416124.735433980007656, 848155.899139379966073 ], [ 412412.652427670022007, 846012.727015899959952 ], [ 412412.652427670022007, 842951.052553790039383 ], [ 414003.54514465999091, 842032.550215149996802 ], [ 414887.374431880016346, 842338.717661370057613 ], [ 415947.969576539995614, 841726.382768939947709 ], [ 416124.735433980007656, 840807.880430310033262 ], [ 418069.159865850000642, 839889.378091669990681 ] ] ] },\n",
      "    \"density\": 0.08485529853,\n",
      "    \"edge_length\": 0,\n",
      "    \"estimated_edge\": 612.3348924,\n",
      "    \"hex_offsets\": \"MULTIPOINT (0 0, -176.766 306.167, 0 612.335, 353.532 612.335, 530.298 306.167, 353.532 0)\",\n",
      "    \"sample_size\": 5000,\n",
      "    \"threshold\": 15\n",
      "  },\n",
      "  \"file_size\": 57584835,\n",
      "  \"filename\": \"./data/Siuslaw.laz\",\n",
      "  \"now\": \"2023-04-29T16:28:34-0600\",\n",
      "  \"pdal_version\": \"2.5.3 (git-version: Release)\",\n",
      "  \"reader\": \"readers.las\"\n",
      "}\n"
     ]
    }
   ],
   "source": [
    "pdal info ./data/Siuslaw.laz --boundary "
   ]
  },
  {
   "cell_type": "markdown",
   "id": "a0d8c0ca",
   "metadata": {},
   "source": [
    "However, to get a boundary in vector format to visualize in a GIS or Google Earth requires some additional steps.  The PDAL command, [tindex](https://pdal.io/en/2.5.3/apps/tindex.html#tindex-command) is used to create a boundary that utilizes the [hexbin filter](https://pdal.io/en/2.5.3/stages/filters.hexbin.html#filters-hexbin)"
   ]
  },
  {
   "cell_type": "markdown",
   "id": "ab2afb36",
   "metadata": {},
   "source": [
    "To get a basic boundary:"
   ]
  },
  {
   "cell_type": "code",
   "execution_count": 62,
   "id": "a3ccaf4f",
   "metadata": {
    "ExecuteTime": {
     "end_time": "2023-04-29T22:28:55.108134Z",
     "start_time": "2023-04-29T22:28:49.024863Z"
    }
   },
   "outputs": [
    {
     "name": "stdout",
     "output_type": "stream",
     "text": [
      "Warning 6: Field modified create as date field, though DateTime requested.\n",
      "Warning 6: Field created create as date field, though DateTime requested.\n",
      "Warning 1: Value 'PROJCS[\"NAD83 / Oregon GIC Lambert (ft)\",GEOGCS[\"NAD83\",DATUM[\"North_American_Datum_1983\",SPHEROID[\"GRS 1980\",6378137,298.257222101,AUTHORITY[\"EPSG\",\"7019\"]],AUTHORITY[\"EPSG\",\"6269\"]],PRIMEM[\"Greenwich\",0,AUTHORITY[\"EPSG\",\"8901\"]],UNIT[\"degree\",0.0174532925199433,AUTHORITY[\"EPSG\",\"9122\"]],AUTHORITY[\"EPSG\",\"4269\"]],PROJECTION[\"Lambert_Conformal_Conic_2SP\"],PARAMETER[\"latitude_of_origin\",41.75],PARAMETER[\"central_meridian\",-120.5],PARAMETER[\"standard_parallel_1\",43],PARAMETER[\"standard_parallel_2\",45.5],PARAMETER[\"false_easting\",1312335.958],PARAMETER[\"false_northing\",0],UNIT[\"foot\",0.3048,AUTHORITY[\"EPSG\",\"9002\"]],AXIS[\"Easting\",EAST],AXIS[\"Northing\",NORTH],AUTHORITY[\"EPSG\",\"2992\"]]' of field srs has been truncated to 254 characters.  This warning will not be emitted any more for that layer.\n"
     ]
    }
   ],
   "source": [
    "pdal tindex create --tindex ./data/Siuslaw_bounds.shp --filespec ./data/Siuslaw.laz -f \"ESRI Shapefile\""
   ]
  },
  {
   "cell_type": "markdown",
   "id": "eeeb5602",
   "metadata": {},
   "source": [
    "Load the shapefile into a GIS to see its extent:\n",
    "![Siuslaw Bounds](./images/SiuslawRiverBounds.jpeg)"
   ]
  },
  {
   "cell_type": "markdown",
   "id": "e186bafd",
   "metadata": {
    "ExecuteTime": {
     "end_time": "2023-04-26T16:48:36.923464Z",
     "start_time": "2023-04-26T16:48:36.811649Z"
    }
   },
   "source": [
    "For rough estimations of boundaries, this is usually sufficient. To obtain a more precise fit of the data alter some of the parameters in the [filters.hexbin](https://pdal.io/en/2.5.3/stages/filters.hexbin.html#filters-hexbin) command.  The \"edge_size\" parameter is particularly useful for this scenario as it controls the size of the hexagon boundaries used to estimate whether a section of the dataset should be considered. Finding an appropriate value for edge_size can be an iterative process.  For example, try using a vlue of \"50\" units (for this dataset, the units are feet)."
   ]
  },
  {
   "cell_type": "code",
   "execution_count": 63,
   "id": "e83bcca9",
   "metadata": {
    "ExecuteTime": {
     "end_time": "2023-04-29T22:29:19.830577Z",
     "start_time": "2023-04-29T22:29:13.667671Z"
    }
   },
   "outputs": [
    {
     "name": "stdout",
     "output_type": "stream",
     "text": [
      "Warning 6: Field modified create as date field, though DateTime requested.\n",
      "Warning 6: Field created create as date field, though DateTime requested.\n",
      "Warning 1: Value 'PROJCS[\"NAD83 / Oregon GIC Lambert (ft)\",GEOGCS[\"NAD83\",DATUM[\"North_American_Datum_1983\",SPHEROID[\"GRS 1980\",6378137,298.257222101,AUTHORITY[\"EPSG\",\"7019\"]],AUTHORITY[\"EPSG\",\"6269\"]],PRIMEM[\"Greenwich\",0,AUTHORITY[\"EPSG\",\"8901\"]],UNIT[\"degree\",0.0174532925199433,AUTHORITY[\"EPSG\",\"9122\"]],AUTHORITY[\"EPSG\",\"4269\"]],PROJECTION[\"Lambert_Conformal_Conic_2SP\"],PARAMETER[\"latitude_of_origin\",41.75],PARAMETER[\"central_meridian\",-120.5],PARAMETER[\"standard_parallel_1\",43],PARAMETER[\"standard_parallel_2\",45.5],PARAMETER[\"false_easting\",1312335.958],PARAMETER[\"false_northing\",0],UNIT[\"foot\",0.3048,AUTHORITY[\"EPSG\",\"9002\"]],AXIS[\"Easting\",EAST],AXIS[\"Northing\",NORTH],AUTHORITY[\"EPSG\",\"2992\"]]' of field srs has been truncated to 254 characters.  This warning will not be emitted any more for that layer.\n"
     ]
    }
   ],
   "source": [
    "pdal tindex create --tindex ./data/Siuslaw_bounds50.shp --filters.hexbin.edge_size=50 --filespec ./data/Siuslaw.laz -f \"ESRI Shapefile\""
   ]
  },
  {
   "cell_type": "markdown",
   "id": "098f8b71",
   "metadata": {},
   "source": [
    "Load this version of the boundary into a GIS:\n",
    "![Siuslaw Bounds_Fit](./images/SiuslawRiverBounds_Fit.png)"
   ]
  },
  {
   "cell_type": "markdown",
   "id": "2bd76838",
   "metadata": {},
   "source": [
    "Note how this is a much better fit to the data, and shows regions where there is no data (over the water). However, use caution with the edge_size parameter as setting it too low might not capture an appropriate amount of data, and mis-represent the data coverage."
   ]
  },
  {
   "cell_type": "markdown",
   "id": "77770ec3",
   "metadata": {},
   "source": [
    "### Visualizing Point Density"
   ]
  },
  {
   "cell_type": "code",
   "execution_count": 64,
   "id": "9a7547e7",
   "metadata": {
    "ExecuteTime": {
     "end_time": "2023-04-29T22:31:03.847674Z",
     "start_time": "2023-04-29T22:30:58.065226Z"
    }
   },
   "outputs": [],
   "source": [
    "pdal density ./data/Siuslaw.laz -o ./data/Siuslaw_density.shp -f \"ESRI Shapefile\""
   ]
  },
  {
   "cell_type": "markdown",
   "id": "92714648",
   "metadata": {},
   "source": [
    "Size of the hexagons can be controlled with the optional parameter, \"--filters.hexbin.edge_size\""
   ]
  },
  {
   "cell_type": "code",
   "execution_count": 65,
   "id": "cee7631b",
   "metadata": {
    "ExecuteTime": {
     "end_time": "2023-04-29T22:31:13.679904Z",
     "start_time": "2023-04-29T22:31:06.981462Z"
    }
   },
   "outputs": [],
   "source": [
    "pdal density --filters.hexbin.edge_size=50 ./data/Siuslaw.laz -o ./data/Siuslaw_density50.shp -f \"ESRI Shapefile\""
   ]
  },
  {
   "cell_type": "markdown",
   "id": "59b6be16",
   "metadata": {},
   "source": [
    "## Filtering Noise"
   ]
  },
  {
   "cell_type": "code",
   "execution_count": 66,
   "id": "4633a985",
   "metadata": {
    "ExecuteTime": {
     "end_time": "2023-04-29T22:37:50.901022Z",
     "start_time": "2023-04-29T22:37:27.264941Z"
    }
   },
   "outputs": [],
   "source": [
    "pdal pipeline ./pipelines/NoiseFilter.json"
   ]
  },
  {
   "cell_type": "code",
   "execution_count": 67,
   "id": "a7c7b3ce",
   "metadata": {
    "ExecuteTime": {
     "end_time": "2023-04-29T22:38:01.389820Z",
     "start_time": "2023-04-29T22:37:59.117469Z"
    }
   },
   "outputs": [
    {
     "name": "stdout",
     "output_type": "stream",
     "text": [
      "{\n",
      "  \"file_size\": 17452659,\n",
      "  \"filename\": \"./data/FoxIsland_Clean.laz\",\n",
      "  \"now\": \"2023-04-29T16:38:01-0600\",\n",
      "  \"pdal_version\": \"2.5.3 (git-version: Release)\",\n",
      "  \"reader\": \"readers.las\",\n",
      "  \"stats\":\n",
      "  {\n",
      "    \"statistic\":\n",
      "    [\n",
      "      {\n",
      "        \"average\": 1.158417543,\n",
      "        \"count\": 2996783,\n",
      "        \"counts\":\n",
      "        [\n",
      "          \"1.000000/2522040\",\n",
      "          \"2.000000/474743\"\n",
      "        ],\n",
      "        \"maximum\": 2,\n",
      "        \"minimum\": 1,\n",
      "        \"name\": \"Classification\",\n",
      "        \"position\": 0,\n",
      "        \"stddev\": 0.3651321262,\n",
      "        \"variance\": 0.1333214696\n",
      "      }\n",
      "    ]\n",
      "  }\n",
      "}\n"
     ]
    }
   ],
   "source": [
    "pdal info ./data/FoxIsland_Clean.laz --stats --filters.stats.dimensions=Classification  --filters.stats.count=Classification"
   ]
  },
  {
   "cell_type": "markdown",
   "id": "4d178ca4",
   "metadata": {},
   "source": [
    "# Cropping Data"
   ]
  },
  {
   "cell_type": "markdown",
   "id": "385d8ca3",
   "metadata": {},
   "source": [
    "[filters.crop](https://pdal.io/en/2.5.3/stages/filters.crop.html) removes points that fall outside or inside a cropping bounding box. The “polygon” option takes a WKT-formatted string to apply the clipping mask."
   ]
  },
  {
   "cell_type": "code",
   "execution_count": 68,
   "id": "a305008b",
   "metadata": {
    "ExecuteTime": {
     "end_time": "2023-04-29T22:40:04.084167Z",
     "start_time": "2023-04-29T22:40:01.539680Z"
    }
   },
   "outputs": [],
   "source": [
    "pdal pipeline ./pipelines/Clip_ex.json"
   ]
  },
  {
   "cell_type": "markdown",
   "id": "f3c37af5",
   "metadata": {},
   "source": [
    "# Ground Classifications"
   ]
  },
  {
   "cell_type": "code",
   "execution_count": 69,
   "id": "29a21ce0",
   "metadata": {
    "ExecuteTime": {
     "end_time": "2023-04-29T22:40:24.888289Z",
     "start_time": "2023-04-29T22:40:22.376915Z"
    }
   },
   "outputs": [],
   "source": [
    "pdal pipeline ./pipelines/ExtractGround.json"
   ]
  },
  {
   "cell_type": "code",
   "execution_count": 70,
   "id": "95ee5395",
   "metadata": {
    "ExecuteTime": {
     "end_time": "2023-04-29T22:40:50.367400Z",
     "start_time": "2023-04-29T22:40:25.783109Z"
    }
   },
   "outputs": [],
   "source": [
    "pdal pipeline ./pipelines/CreateGround.json"
   ]
  },
  {
   "cell_type": "markdown",
   "id": "493f744f",
   "metadata": {},
   "source": [
    "# Create Rasters"
   ]
  },
  {
   "cell_type": "code",
   "execution_count": 77,
   "id": "4f300f8c",
   "metadata": {
    "ExecuteTime": {
     "end_time": "2023-05-03T14:51:30.107104Z",
     "start_time": "2023-05-03T14:51:27.147423Z"
    }
   },
   "outputs": [],
   "source": [
    "pdal pipeline ./pipelines/CreateDSM.json"
   ]
  },
  {
   "cell_type": "code",
   "execution_count": 72,
   "id": "fe9ea7a5",
   "metadata": {
    "ExecuteTime": {
     "end_time": "2023-04-29T22:42:03.421417Z",
     "start_time": "2023-04-29T22:41:42.807911Z"
    }
   },
   "outputs": [],
   "source": [
    "pdal pipeline ./pipelines/CreateDTM.json"
   ]
  },
  {
   "cell_type": "markdown",
   "id": "d5730b40",
   "metadata": {},
   "source": [
    "Use GDAL raster calculator to difference the DSM and DTM to create a CHM"
   ]
  },
  {
   "cell_type": "code",
   "execution_count": 74,
   "id": "d12acf9c",
   "metadata": {
    "ExecuteTime": {
     "end_time": "2023-04-29T22:43:33.609901Z",
     "start_time": "2023-04-29T22:43:32.054088Z"
    }
   },
   "outputs": [
    {
     "name": "stdout",
     "output_type": "stream",
     "text": [
      "0.. 25.. 50.. 75.. 100 - Done\n"
     ]
    }
   ],
   "source": [
    " gdal_calc.py -A ./data/FoxIsland_DSM.tif -B ./data/FoxIsland_DTM.tif --outfile ./data/CHM.tif --calc=\"A-B\" --NoDataValue=-9999 --extent intersect\n",
    "\n"
   ]
  },
  {
   "cell_type": "markdown",
   "id": "2a438e44",
   "metadata": {},
   "source": [
    "# GDAL Visualizations\n",
    "- The [gdaldem](https://gdal.org/programs/gdaldem.html) application is a quick and easy way to visualize raster products such as\n",
    "   - Hillshade\n",
    "   - Slope\n",
    "   - Aspect\n",
    "   - Roughness"
   ]
  },
  {
   "cell_type": "code",
   "execution_count": 80,
   "id": "bc87562e",
   "metadata": {
    "ExecuteTime": {
     "end_time": "2023-05-03T16:03:14.459950Z",
     "start_time": "2023-05-03T16:03:10.728205Z"
    }
   },
   "outputs": [],
   "source": [
    "pdal pipeline ./pipelines/DevilsTower.json"
   ]
  },
  {
   "cell_type": "code",
   "execution_count": 81,
   "id": "3368348e",
   "metadata": {
    "ExecuteTime": {
     "end_time": "2023-05-03T16:04:14.102740Z",
     "start_time": "2023-05-03T16:04:13.430545Z"
    }
   },
   "outputs": [
    {
     "name": "stdout",
     "output_type": "stream",
     "text": [
      "0...10...20...30...40...50...60...70...80...90...100 - done.\n"
     ]
    }
   ],
   "source": [
    "gdaldem hillshade ./data/DevilsTower_Ground.tif ./data/DevilsTower_Ground_HS.tif -z 1 -az 315 -alt 45 "
   ]
  },
  {
   "cell_type": "markdown",
   "id": "b32a6045",
   "metadata": {},
   "source": [
    "Experiment with some of the different parameters.  For example, try out the \"multidirectional\" option.  Multidirectional shading is a combination of hillshading illuminated from 225 deg, 270 deg, 315 deg, and 360 deg azimuth."
   ]
  },
  {
   "cell_type": "code",
   "execution_count": 82,
   "id": "760b8191",
   "metadata": {
    "ExecuteTime": {
     "end_time": "2023-05-03T16:04:17.451101Z",
     "start_time": "2023-05-03T16:04:16.804947Z"
    }
   },
   "outputs": [
    {
     "name": "stdout",
     "output_type": "stream",
     "text": [
      "0...10...20...30...40...50...60...70...80...90...100 - done.\n"
     ]
    }
   ],
   "source": [
    "gdaldem hillshade ./data/DevilsTower_Ground.tif ./data/DevilsTower_Ground_HSMulti.tif -z 1 -multidirectional"
   ]
  },
  {
   "cell_type": "code",
   "execution_count": null,
   "id": "68ff08ac",
   "metadata": {},
   "outputs": [],
   "source": []
  }
 ],
 "metadata": {
  "kernelspec": {
   "display_name": "Bash",
   "language": "bash",
   "name": "bash"
  },
  "language_info": {
   "codemirror_mode": "shell",
   "file_extension": ".sh",
   "mimetype": "text/x-sh",
   "name": "bash"
  }
 },
 "nbformat": 4,
 "nbformat_minor": 5
}
