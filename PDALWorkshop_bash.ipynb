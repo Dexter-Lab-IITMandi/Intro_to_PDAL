{
 "cells": [
  {
   "cell_type": "markdown",
   "id": "fd1ca206",
   "metadata": {},
   "source": [
    "# Inspecting a LAS/LAZ file"
   ]
  },
  {
   "cell_type": "code",
   "execution_count": null,
   "id": "02c63012",
   "metadata": {},
   "outputs": [],
   "source": [
    "pdal --version"
   ]
  },
  {
   "cell_type": "code",
   "execution_count": null,
   "id": "77056288",
   "metadata": {},
   "outputs": [],
   "source": [
    "ls -l ./data"
   ]
  },
  {
   "cell_type": "markdown",
   "id": "1520e393",
   "metadata": {},
   "source": [
    "In general, it is best to use absolute paths to specify paths to datafiles.  Relative paths may cause issues."
   ]
  },
  {
   "cell_type": "code",
   "execution_count": null,
   "id": "8a0db08a",
   "metadata": {},
   "outputs": [],
   "source": [
    "pwd"
   ]
  },
  {
   "cell_type": "code",
   "execution_count": null,
   "id": "34356ef4",
   "metadata": {},
   "outputs": [],
   "source": [
    "laz_file=$PWD'/data/FoxIsland.laz'\n",
    "CWD=`pwd`\n",
    "echo $laz_file\n",
    "echo $CWD"
   ]
  },
  {
   "cell_type": "markdown",
   "id": "7f1dfee1",
   "metadata": {},
   "source": [
    "## Metadata"
   ]
  },
  {
   "cell_type": "code",
   "execution_count": null,
   "id": "3083b9e2",
   "metadata": {},
   "outputs": [],
   "source": [
    "pdal info --metadata $laz_file"
   ]
  },
  {
   "cell_type": "markdown",
   "id": "04764fe5",
   "metadata": {},
   "source": [
    "To get the schema for a dataset:"
   ]
  },
  {
   "cell_type": "code",
   "execution_count": null,
   "id": "54da06d0",
   "metadata": {},
   "outputs": [],
   "source": [
    "pdal info --schema ./data/FoxIsland.laz"
   ]
  },
  {
   "cell_type": "markdown",
   "id": "575d35f3",
   "metadata": {},
   "source": [
    "To get an overall metadata summary for a dataset:"
   ]
  },
  {
   "cell_type": "code",
   "execution_count": null,
   "id": "1f0004d4",
   "metadata": {},
   "outputs": [],
   "source": [
    "pdal info $laz_file --summary"
   ]
  },
  {
   "cell_type": "markdown",
   "id": "73649ea2",
   "metadata": {},
   "source": [
    "## Printing Points"
   ]
  },
  {
   "cell_type": "markdown",
   "id": "bdd2c04b",
   "metadata": {},
   "source": [
    "Print the values for the first point in the file:"
   ]
  },
  {
   "cell_type": "code",
   "execution_count": null,
   "id": "d65bb644",
   "metadata": {},
   "outputs": [],
   "source": [
    "pdal info $laz_file -p 0"
   ]
  },
  {
   "cell_type": "markdown",
   "id": "1131ff0b",
   "metadata": {},
   "source": [
    "Print the values for the first 5 points in the file"
   ]
  },
  {
   "cell_type": "code",
   "execution_count": null,
   "id": "b12b4d2d",
   "metadata": {},
   "outputs": [],
   "source": [
    "pdal info $laz_file -p 0-10"
   ]
  },
  {
   "cell_type": "markdown",
   "id": "9017a7ea",
   "metadata": {},
   "source": [
    "Print the first 10 points, and extract only the elevation values using bash commands"
   ]
  },
  {
   "cell_type": "code",
   "execution_count": null,
   "id": "df26c504",
   "metadata": {},
   "outputs": [],
   "source": [
    "pdal info $laz_file -p 0-10|grep  \"Z\"|awk '{print $2}' FS=': '"
   ]
  },
  {
   "cell_type": "markdown",
   "id": "708d14f9",
   "metadata": {},
   "source": [
    "jq is a command line JSON parser, and can be a useful tool for these types of operations. Note if returning more than one point, specify \"[]\" to return all the points in the array."
   ]
  },
  {
   "cell_type": "code",
   "execution_count": null,
   "id": "35f2936f",
   "metadata": {},
   "outputs": [],
   "source": [
    "pdal info $laz_file -p 0-10|jq -r .points.point[].Z"
   ]
  },
  {
   "cell_type": "markdown",
   "id": "c9c2e287",
   "metadata": {},
   "source": [
    "## Attribute Statistics"
   ]
  },
  {
   "cell_type": "markdown",
   "id": "4711f31f",
   "metadata": {},
   "source": [
    "Use the [info application](https://pdal.io/en/2.4.3/apps/info.html) with the --stats flag and perform filtering to get a summary of the classifications for a given lidar file."
   ]
  },
  {
   "cell_type": "code",
   "execution_count": null,
   "id": "b03aae94",
   "metadata": {},
   "outputs": [],
   "source": [
    "pdal info ./data/FoxIsland.laz --stats --filters.stats.dimensions=Classification  --filters.stats.count=Classification"
   ]
  },
  {
   "cell_type": "markdown",
   "id": "da40d487",
   "metadata": {},
   "source": [
    "Perform both a metadata dump and count of Classification and ReturnNumber and output to a JSON file:"
   ]
  },
  {
   "cell_type": "code",
   "execution_count": null,
   "id": "46f8cd4f",
   "metadata": {},
   "outputs": [],
   "source": [
    "pdal info --metadata --stats --filters.stats.dimensions=ReturnNumber,Classification --filters.stats.count=ReturnNumber,Classification ./data/FoxIsland.laz > ./data/fileinfo.json"
   ]
  },
  {
   "cell_type": "markdown",
   "id": "b803428c",
   "metadata": {},
   "source": [
    "## Reprojection"
   ]
  },
  {
   "cell_type": "code",
   "execution_count": null,
   "id": "f87f3ccb",
   "metadata": {},
   "outputs": [],
   "source": [
    "ls"
   ]
  },
  {
   "cell_type": "markdown",
   "id": "ff9a2a95",
   "metadata": {},
   "source": [
    "Run a pipeline to project a file from Oregon Lambert to Geographic Lat/Lon coordindates:"
   ]
  },
  {
   "cell_type": "code",
   "execution_count": null,
   "id": "be40bfca",
   "metadata": {},
   "outputs": [],
   "source": [
    "pdal pipeline ./pipelines/Reproject_Ex.json"
   ]
  },
  {
   "cell_type": "code",
   "execution_count": null,
   "id": "5bcbe071",
   "metadata": {},
   "outputs": [],
   "source": [
    "ls ./data"
   ]
  },
  {
   "cell_type": "markdown",
   "id": "7e8a65d0",
   "metadata": {},
   "source": [
    "Inspect the coordinates to make sure the xy values make sense.."
   ]
  },
  {
   "cell_type": "code",
   "execution_count": null,
   "id": "2b2b92e3",
   "metadata": {},
   "outputs": [],
   "source": [
    "pdal info --metadata ./data/FoxIsland_4326.laz"
   ]
  },
  {
   "cell_type": "markdown",
   "id": "ea52650a",
   "metadata": {},
   "source": [
    "# Tiling data"
   ]
  },
  {
   "cell_type": "code",
   "execution_count": null,
   "id": "7dd73da9",
   "metadata": {},
   "outputs": [],
   "source": [
    "pdal pipeline ./pipelines/TileLAZ.json"
   ]
  },
  {
   "cell_type": "markdown",
   "id": "74a19076",
   "metadata": {},
   "source": [
    "# Thinning data"
   ]
  },
  {
   "cell_type": "markdown",
   "id": "80909ed8",
   "metadata": {},
   "source": [
    "Point cloud files can often be quite large and cumbersome to work with.  Depending on the objective, it is often useful to thin a dataset in order to make it easier and faster to work with. The [filters.sample](https://pdal.io/en/2.5.3/stages/filters.sample.html#filters-sample) utilizes a Poisson sampling to thin the dataset."
   ]
  },
  {
   "cell_type": "code",
   "execution_count": null,
   "id": "7928d5c7",
   "metadata": {},
   "outputs": [],
   "source": [
    "pdal translate ./data/FoxIsland.laz ./data/FoxIsland_Thin1m.laz sample --filters.sample.radius=1"
   ]
  },
  {
   "cell_type": "markdown",
   "id": "a522bfeb",
   "metadata": {},
   "source": [
    "## Calculating a Boundary"
   ]
  },
  {
   "cell_type": "markdown",
   "id": "c56c54f1",
   "metadata": {},
   "source": [
    "Utilizing the info command, the boundary of a dataset can be obtained by using the \"--boundary\" flag.  This will output the boundary in WKT format in JSON-formatted output."
   ]
  },
  {
   "cell_type": "code",
   "execution_count": null,
   "id": "ff612158",
   "metadata": {},
   "outputs": [],
   "source": [
    "ls"
   ]
  },
  {
   "cell_type": "markdown",
   "id": "c3214843",
   "metadata": {},
   "source": [
    "Use the \"--boundary\" flag to get the boundary of data over the Siuslaw River:"
   ]
  },
  {
   "cell_type": "code",
   "execution_count": null,
   "id": "a6b62a98",
   "metadata": {},
   "outputs": [],
   "source": [
    "pdal info ./data/Siuslaw.laz --boundary "
   ]
  },
  {
   "cell_type": "markdown",
   "id": "a0d8c0ca",
   "metadata": {},
   "source": [
    "However, to get a boundary in vector format to visualize in a GIS or Google Earth requires some additional steps.  The PDAL command, [tindex](https://pdal.io/en/2.5.3/apps/tindex.html#tindex-command) is used to create a boundary that utilizes the [hexbin filter](https://pdal.io/en/2.5.3/stages/filters.hexbin.html#filters-hexbin)"
   ]
  },
  {
   "cell_type": "markdown",
   "id": "ab2afb36",
   "metadata": {},
   "source": [
    "To get a basic boundary:"
   ]
  },
  {
   "cell_type": "code",
   "execution_count": null,
   "id": "a3ccaf4f",
   "metadata": {},
   "outputs": [],
   "source": [
    "pdal tindex create --tindex ./data/Siuslaw_bounds.shp --filespec ./data/Siuslaw.laz -f \"ESRI Shapefile\""
   ]
  },
  {
   "cell_type": "markdown",
   "id": "eeeb5602",
   "metadata": {},
   "source": [
    "Load the shapefile into a GIS to see its extent:\n",
    "![Siuslaw Bounds](./images/SiuslawRiverBounds.jpeg)"
   ]
  },
  {
   "cell_type": "markdown",
   "id": "e186bafd",
   "metadata": {
    "ExecuteTime": {
     "end_time": "2023-04-26T16:48:36.923464Z",
     "start_time": "2023-04-26T16:48:36.811649Z"
    }
   },
   "source": [
    "For rough estimations of boundaries, this is usually sufficient. To obtain a more precise fit of the data alter some of the parameters in the [filters.hexbin](https://pdal.io/en/2.5.3/stages/filters.hexbin.html#filters-hexbin) command.  The \"edge_size\" parameter is particularly useful for this scenario as it controls the size of the hexagon boundaries used to estimate whether a section of the dataset should be considered. Finding an appropriate value for edge_size can be an iterative process.  For example, try using a vlue of \"50\" units (for this dataset, the units are feet)."
   ]
  },
  {
   "cell_type": "code",
   "execution_count": null,
   "id": "e83bcca9",
   "metadata": {},
   "outputs": [],
   "source": [
    "pdal tindex create --tindex ./data/Siuslaw_bounds50.shp --filters.hexbin.edge_size=50 --filespec ./data/Siuslaw.laz -f \"ESRI Shapefile\""
   ]
  },
  {
   "cell_type": "markdown",
   "id": "098f8b71",
   "metadata": {},
   "source": [
    "Load this version of the boundary into a GIS:\n",
    "![Siuslaw Bounds_Fit](./images/SiuslawRiverBounds_Fit.png)"
   ]
  },
  {
   "cell_type": "markdown",
   "id": "2bd76838",
   "metadata": {},
   "source": [
    "Note how this is a much better fit to the data, and shows regions where there is no data (over the water). However, use caution with the edge_size parameter as setting it too low might not capture an appropriate amount of data, and mis-represent the data coverage."
   ]
  },
  {
   "cell_type": "markdown",
   "id": "77770ec3",
   "metadata": {},
   "source": [
    "### Visualizing Point Density"
   ]
  },
  {
   "cell_type": "code",
   "execution_count": null,
   "id": "9a7547e7",
   "metadata": {},
   "outputs": [],
   "source": [
    "pdal density ./data/Siuslaw.laz -o ./data/Siuslaw_density.shp -f \"ESRI Shapefile\""
   ]
  },
  {
   "cell_type": "markdown",
   "id": "92714648",
   "metadata": {},
   "source": [
    "Size of the hexagons can be controlled with the optional parameter, \"--filters.hexbin.edge_size\""
   ]
  },
  {
   "cell_type": "code",
   "execution_count": null,
   "id": "cee7631b",
   "metadata": {},
   "outputs": [],
   "source": [
    "pdal density --filters.hexbin.edge_size=50 ./data/Siuslaw.laz -o ./data/Siuslaw_density50.shp -f \"ESRI Shapefile\""
   ]
  },
  {
   "cell_type": "markdown",
   "id": "59b6be16",
   "metadata": {},
   "source": [
    "## Filtering Noise"
   ]
  },
  {
   "cell_type": "code",
   "execution_count": null,
   "id": "4633a985",
   "metadata": {},
   "outputs": [],
   "source": [
    "pdal pipeline ./pipelines/NoiseFilter.json"
   ]
  },
  {
   "cell_type": "code",
   "execution_count": null,
   "id": "a7c7b3ce",
   "metadata": {},
   "outputs": [],
   "source": [
    "pdal info ./data/FoxIsland_Clean.laz --stats --filters.stats.dimensions=Classification  --filters.stats.count=Classification"
   ]
  },
  {
   "cell_type": "markdown",
   "id": "4d178ca4",
   "metadata": {},
   "source": [
    "# Cropping Data"
   ]
  },
  {
   "cell_type": "markdown",
   "id": "385d8ca3",
   "metadata": {},
   "source": [
    "[filters.crop](https://pdal.io/en/2.5.3/stages/filters.crop.html) removes points that fall outside or inside a cropping bounding box. The “polygon” option takes a WKT-formatted string to apply the clipping mask."
   ]
  },
  {
   "cell_type": "code",
   "execution_count": null,
   "id": "a305008b",
   "metadata": {},
   "outputs": [],
   "source": [
    "pdal pipeline ./pipelines/Clip_ex.json"
   ]
  },
  {
   "cell_type": "markdown",
   "id": "f3c37af5",
   "metadata": {},
   "source": [
    "# Ground Classifications"
   ]
  },
  {
   "cell_type": "code",
   "execution_count": null,
   "id": "29a21ce0",
   "metadata": {},
   "outputs": [],
   "source": [
    "pdal pipeline ./pipelines/ExtractGround.json"
   ]
  },
  {
   "cell_type": "code",
   "execution_count": null,
   "id": "95ee5395",
   "metadata": {},
   "outputs": [],
   "source": [
    "pdal pipeline ./pipelines/CreateGround.json"
   ]
  },
  {
   "cell_type": "markdown",
   "id": "493f744f",
   "metadata": {},
   "source": [
    "# Create Rasters"
   ]
  },
  {
   "cell_type": "code",
   "execution_count": null,
   "id": "4f300f8c",
   "metadata": {},
   "outputs": [],
   "source": [
    "pdal pipeline ./pipelines/CreateDSM.json"
   ]
  },
  {
   "cell_type": "code",
   "execution_count": null,
   "id": "fe9ea7a5",
   "metadata": {},
   "outputs": [],
   "source": [
    "pdal pipeline ./pipelines/CreateDTM.json"
   ]
  },
  {
   "cell_type": "markdown",
   "id": "361c0d9c",
   "metadata": {},
   "source": [
    "## Dealing with NoData Values"
   ]
  },
  {
   "cell_type": "markdown",
   "id": "f321489b",
   "metadata": {},
   "source": [
    "- Note that when calculating the min value with a smaller cell size for a ground-classified data, there may be gaps in the data.  GDAL has a useful tool called, [gdal_fillnodata.py](https://gdal.org/programs/gdal_fillnodata.html) to fill in gaps in datasets by interpolating data from the edges of missing areas.\n",
    "\n"
   ]
  },
  {
   "cell_type": "code",
   "execution_count": null,
   "id": "64e0a36b",
   "metadata": {},
   "outputs": [],
   "source": [
    "gdal_fillnodata.py -si 2 ./data/FoxIsland_DTM.tif ./data/FoxIsland_DTM_Fill.tif"
   ]
  },
  {
   "cell_type": "markdown",
   "id": "76f83619",
   "metadata": {},
   "source": [
    "- By default the algorithm uses a 100 pixel distance to search for pixel values to use with the interpolation, but this distance can be customized with the \"-md\" option.  \n",
    "- The -si option is the number of times to run a 3x3 averaging filter over the interpolated area to dampen artifacts.\n",
    "\n",
    "![NoData Filled](./images/DTM_NoDataFilled.png)\n",
    "\n",
    "- Using the above command does a pretty good job of filling the NoData areas.  Image on the left is the filled/smoothed DTM, image on the right is the original DTM with data gaps.  Note that the algorithm does not alter existing values, but only interpolated and smooths the area of missing data."
   ]
  },
  {
   "cell_type": "markdown",
   "id": "5e58a404",
   "metadata": {},
   "source": [
    "## Raster Calculator "
   ]
  },
  {
   "cell_type": "markdown",
   "id": "d5730b40",
   "metadata": {},
   "source": [
    "Use GDAL raster calculator to difference the DSM and DTM to create a CHM"
   ]
  },
  {
   "cell_type": "code",
   "execution_count": null,
   "id": "d12acf9c",
   "metadata": {},
   "outputs": [],
   "source": [
    " gdal_calc.py -A ./data/FoxIsland_DSM.tif -B ./data/FoxIsland_DTM.tif --outfile ./data/CHM.tif --calc=\"A-B\" --NoDataValue=-9999 --extent intersect\n",
    "\n"
   ]
  },
  {
   "cell_type": "markdown",
   "id": "2a438e44",
   "metadata": {},
   "source": [
    "# GDAL Visualizations\n",
    "- The [gdaldem](https://gdal.org/programs/gdaldem.html) application is a quick and easy way to visualize raster products such as\n",
    "   - Hillshade\n",
    "   - Slope\n",
    "   - Aspect\n",
    "   - Roughness"
   ]
  },
  {
   "cell_type": "code",
   "execution_count": null,
   "id": "bc87562e",
   "metadata": {},
   "outputs": [],
   "source": [
    "pdal pipeline ./pipelines/DevilsTower.json"
   ]
  },
  {
   "cell_type": "code",
   "execution_count": null,
   "id": "3368348e",
   "metadata": {},
   "outputs": [],
   "source": [
    "gdaldem hillshade ./data/DevilsTower_Ground.tif ./data/DevilsTower_Ground_HS.tif -z 1 -az 315 -alt 45 "
   ]
  },
  {
   "cell_type": "markdown",
   "id": "b32a6045",
   "metadata": {},
   "source": [
    "Experiment with some of the different parameters.  For example, try out the \"multidirectional\" option.  Multidirectional shading is a combination of hillshading illuminated from 225 deg, 270 deg, 315 deg, and 360 deg azimuth."
   ]
  },
  {
   "cell_type": "code",
   "execution_count": null,
   "id": "760b8191",
   "metadata": {},
   "outputs": [],
   "source": [
    "gdaldem hillshade ./data/DevilsTower_Ground.tif ./data/DevilsTower_Ground_HSMulti.tif -z 1 -multidirectional"
   ]
  },
  {
   "cell_type": "code",
   "execution_count": null,
   "id": "68ff08ac",
   "metadata": {},
   "outputs": [],
   "source": [
    "gdaldem slope ./data/DevilsTower_Ground.tif ./data/DevilsTower_Ground_Slope.tif"
   ]
  },
  {
   "cell_type": "code",
   "execution_count": null,
   "id": "75884006",
   "metadata": {},
   "outputs": [],
   "source": []
  }
 ],
 "metadata": {
  "kernelspec": {
   "display_name": "Bash",
   "language": "bash",
   "name": "bash"
  },
  "language_info": {
   "codemirror_mode": "shell",
   "file_extension": ".sh",
   "mimetype": "text/x-sh",
   "name": "bash"
  }
 },
 "nbformat": 4,
 "nbformat_minor": 5
}
