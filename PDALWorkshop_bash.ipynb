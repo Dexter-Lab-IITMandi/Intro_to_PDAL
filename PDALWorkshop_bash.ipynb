{
 "cells": [
  {
   "cell_type": "markdown",
   "id": "fd1ca206",
   "metadata": {},
   "source": [
    "# Inspecting a LAS/LAZ file"
   ]
  },
  {
   "cell_type": "code",
   "execution_count": null,
   "id": "02c63012",
   "metadata": {},
   "outputs": [],
   "source": [
    "pdal --version"
   ]
  },
  {
   "cell_type": "code",
   "execution_count": null,
   "id": "77056288",
   "metadata": {},
   "outputs": [],
   "source": [
    "ls -l ./data"
   ]
  },
  {
   "cell_type": "markdown",
   "id": "1520e393",
   "metadata": {},
   "source": [
    "In general, it is best to use absolute paths to specify paths to datafiles.  Relative paths (e.g. './data/file.laz', '$PWD/data/file.laz') may cause issues."
   ]
  },
  {
   "cell_type": "code",
   "execution_count": null,
   "id": "8a0db08a",
   "metadata": {},
   "outputs": [],
   "source": [
    "pwd"
   ]
  },
  {
   "cell_type": "code",
   "execution_count": null,
   "id": "34356ef4",
   "metadata": {},
   "outputs": [],
   "source": [
    "laz_file=$PWD'/data/OR_WizardIsland.laz'\n",
    "CWD=`pwd`\n",
    "echo $laz_file\n",
    "echo $CWD"
   ]
  },
  {
   "cell_type": "markdown",
   "id": "7f1dfee1",
   "metadata": {},
   "source": [
    "## Metadata"
   ]
  },
  {
   "cell_type": "code",
   "execution_count": null,
   "id": "3083b9e2",
   "metadata": {},
   "outputs": [],
   "source": [
    "pdal info --metadata $laz_file"
   ]
  },
  {
   "cell_type": "markdown",
   "id": "8c439abb",
   "metadata": {},
   "source": [
    "To get the schema for a dataset:"
   ]
  },
  {
   "cell_type": "code",
   "execution_count": null,
   "id": "2cba7209",
   "metadata": {},
   "outputs": [],
   "source": [
    "pdal info --schema ./data/FoxIsland.laz"
   ]
  },
  {
   "cell_type": "markdown",
   "id": "73649ea2",
   "metadata": {},
   "source": [
    "## Printing Points"
   ]
  },
  {
   "cell_type": "markdown",
   "id": "bdd2c04b",
   "metadata": {},
   "source": [
    "Print the values for the first point in the file:"
   ]
  },
  {
   "cell_type": "code",
   "execution_count": null,
   "id": "d65bb644",
   "metadata": {},
   "outputs": [],
   "source": [
    "pdal info $laz_file -p 0"
   ]
  },
  {
   "cell_type": "markdown",
   "id": "1131ff0b",
   "metadata": {},
   "source": [
    "Print the values for the first 5 points in the file"
   ]
  },
  {
   "cell_type": "code",
   "execution_count": null,
   "id": "b12b4d2d",
   "metadata": {},
   "outputs": [],
   "source": [
    "pdal info $laz_file -p 0-10"
   ]
  },
  {
   "cell_type": "markdown",
   "id": "9017a7ea",
   "metadata": {},
   "source": [
    "Print the first 10 points, and extract only the elevation values using bash commands"
   ]
  },
  {
   "cell_type": "code",
   "execution_count": null,
   "id": "df26c504",
   "metadata": {},
   "outputs": [],
   "source": [
    "pdal info $laz_file -p 0-10|grep  \"Z\"|awk '{print $2}' FS=': '"
   ]
  },
  {
   "cell_type": "markdown",
   "id": "708d14f9",
   "metadata": {},
   "source": [
    "jq is a command line JSON parser, and can be a useful tool for these types of operations. Note if returning more than one point, specify \"[]\" to return all the points in the array."
   ]
  },
  {
   "cell_type": "code",
   "execution_count": null,
   "id": "35f2936f",
   "metadata": {},
   "outputs": [],
   "source": [
    "pdal info $laz_file -p 0-10|jq -r .points.point[].Z"
   ]
  },
  {
   "cell_type": "markdown",
   "id": "c9c2e287",
   "metadata": {},
   "source": [
    "## Classifications"
   ]
  },
  {
   "cell_type": "markdown",
   "id": "4711f31f",
   "metadata": {},
   "source": [
    "Use the [info application](https://pdal.io/en/2.4.3/apps/info.html) with the --stats flag and perform filtering to get a summary of the classifications for a given lidar file."
   ]
  },
  {
   "cell_type": "code",
   "execution_count": null,
   "id": "b03aae94",
   "metadata": {},
   "outputs": [],
   "source": [
    "pdal info ./data/OR_WizardIsland.laz --stats --filters.stats.dimensions=Classification  --filters.stats.count=Classification"
   ]
  },
  {
   "cell_type": "markdown",
   "id": "da40d487",
   "metadata": {},
   "source": [
    "Perform both a metadata dump and classification count and output to a JSON file:"
   ]
  },
  {
   "cell_type": "code",
   "execution_count": null,
   "id": "46f8cd4f",
   "metadata": {},
   "outputs": [],
   "source": [
    "pdal info --metadata --stats --filters.stats.dimensions=ReturnNumber,Classification --filters.stats.count=ReturnNumber,Classification ./data/OR_WizardIsland.laz > ./data/fileinfo.json"
   ]
  },
  {
   "cell_type": "markdown",
   "id": "b803428c",
   "metadata": {},
   "source": [
    "## Reprojection"
   ]
  },
  {
   "cell_type": "code",
   "execution_count": null,
   "id": "f87f3ccb",
   "metadata": {},
   "outputs": [],
   "source": [
    "cd pipelines"
   ]
  },
  {
   "cell_type": "code",
   "execution_count": null,
   "id": "26924164",
   "metadata": {},
   "outputs": [],
   "source": [
    "ls"
   ]
  },
  {
   "cell_type": "markdown",
   "id": "ff9a2a95",
   "metadata": {},
   "source": [
    "Run a pipeline to project a file from Oregon Lambert to Geographic Lat/Lon coordindates:"
   ]
  },
  {
   "cell_type": "code",
   "execution_count": null,
   "id": "be40bfca",
   "metadata": {},
   "outputs": [],
   "source": [
    "pdal pipeline Reproject_Ex.json"
   ]
  },
  {
   "cell_type": "code",
   "execution_count": null,
   "id": "5bcbe071",
   "metadata": {},
   "outputs": [],
   "source": [
    "cd ../data\n",
    "ls"
   ]
  },
  {
   "cell_type": "markdown",
   "id": "7e8a65d0",
   "metadata": {},
   "source": [
    "Inspect the coordinates to make sure the xy values make sense.."
   ]
  },
  {
   "cell_type": "code",
   "execution_count": null,
   "id": "2b2b92e3",
   "metadata": {},
   "outputs": [],
   "source": [
    "pdal info --metadata OR_WizardIsland_LatLon.laz"
   ]
  },
  {
   "cell_type": "markdown",
   "id": "c8bb11b6",
   "metadata": {},
   "source": [
    "# Tiling data"
   ]
  },
  {
   "cell_type": "code",
   "execution_count": 37,
   "id": "9c7dd6ae",
   "metadata": {
    "ExecuteTime": {
     "end_time": "2023-04-28T19:07:30.775182Z",
     "start_time": "2023-04-28T19:07:26.606997Z"
    }
   },
   "outputs": [],
   "source": [
    "pdal pipeline ./pipelines/TileLAZ.json"
   ]
  },
  {
   "cell_type": "markdown",
   "id": "a522bfeb",
   "metadata": {},
   "source": [
    "## Calculating a Boundary"
   ]
  },
  {
   "cell_type": "markdown",
   "id": "c56c54f1",
   "metadata": {},
   "source": [
    "Utilizing the info command, the boundary of a dataset can be obtained by using the \"--boundary\" flag.  This will output the boundary in WKT format in JSON-formatted output."
   ]
  },
  {
   "cell_type": "code",
   "execution_count": null,
   "id": "ff612158",
   "metadata": {},
   "outputs": [],
   "source": [
    "ls"
   ]
  },
  {
   "cell_type": "markdown",
   "id": "c3214843",
   "metadata": {},
   "source": [
    "Use the \"--boundary\" flag to get the boundary of data over the Siuslaw River:"
   ]
  },
  {
   "cell_type": "code",
   "execution_count": null,
   "id": "a6b62a98",
   "metadata": {},
   "outputs": [],
   "source": [
    "pdal info ./data/Siuslaw.laz --boundary "
   ]
  },
  {
   "cell_type": "markdown",
   "id": "a0d8c0ca",
   "metadata": {},
   "source": [
    "However, to get a boundary in vector format to visualize in a GIS or Google Earth requires some additional steps.  The PDAL command, [tindex](https://pdal.io/en/2.5.3/apps/tindex.html#tindex-command) is used to create a boundary that utilizes the [hexbin filter](https://pdal.io/en/2.5.3/stages/filters.hexbin.html#filters-hexbin)"
   ]
  },
  {
   "cell_type": "markdown",
   "id": "ab2afb36",
   "metadata": {},
   "source": [
    "To get a basic boundary:"
   ]
  },
  {
   "cell_type": "code",
   "execution_count": null,
   "id": "a3ccaf4f",
   "metadata": {},
   "outputs": [],
   "source": [
    "pdal tindex create --tindex ./data/Siuslaw_bounds.shp --filespec ./data/Siuslaw.laz -f \"ESRI Shapefile\""
   ]
  },
  {
   "cell_type": "code",
   "execution_count": null,
   "id": "29b81b64",
   "metadata": {},
   "outputs": [],
   "source": [
    "cd $CWD"
   ]
  },
  {
   "cell_type": "markdown",
   "id": "eeeb5602",
   "metadata": {},
   "source": [
    "Load the shapefile into a GIS to see its extent:\n",
    "![Siuslaw Bounds](./images/SiuslawRiverBounds.jpeg)"
   ]
  },
  {
   "cell_type": "markdown",
   "id": "e186bafd",
   "metadata": {
    "ExecuteTime": {
     "end_time": "2023-04-26T16:48:36.923464Z",
     "start_time": "2023-04-26T16:48:36.811649Z"
    }
   },
   "source": [
    "For rough estimations of boundaries, this is usually sufficient. To obtain a more precise fit of the data alter some of the parameters in the [filters.hexbin](https://pdal.io/en/2.5.3/stages/filters.hexbin.html#filters-hexbin) command.  The \"edge_size\" parameter is particularly useful for this scenario as it controls the size of the hexagon boundaries used to estimate whether a section of the dataset should be considered. Finding an appropriate value for edge_size can be an iterative process.  For example, try using a vlue of \"50\" units (for this dataset, the units are feet)."
   ]
  },
  {
   "cell_type": "code",
   "execution_count": null,
   "id": "e83bcca9",
   "metadata": {},
   "outputs": [],
   "source": [
    "pdal tindex create --tindex ./data/Siuslaw_bounds50.shp --filters.hexbin.edge_size=50 --filespec ./data/Siuslaw.laz -f \"ESRI Shapefile\""
   ]
  },
  {
   "cell_type": "code",
   "execution_count": null,
   "id": "af3a2dcf",
   "metadata": {},
   "outputs": [],
   "source": [
    "cd $CWD"
   ]
  },
  {
   "cell_type": "markdown",
   "id": "098f8b71",
   "metadata": {},
   "source": [
    "Load this version of the boundary into a GIS:\n",
    "![Siuslaw Bounds_Fit](./images/SiuslawRiverBounds_Fit.png)"
   ]
  },
  {
   "cell_type": "markdown",
   "id": "2bd76838",
   "metadata": {},
   "source": [
    "Note how this is a much better fit to the data, and shows regions where there is no data (over the water). However, use caution with the edge_size parameter as setting it too low might not capture an appropriate amount of data, and mis-represent the data coverage."
   ]
  },
  {
   "cell_type": "markdown",
   "id": "59b6be16",
   "metadata": {},
   "source": [
    "## Filtering Noise"
   ]
  },
  {
   "cell_type": "code",
   "execution_count": null,
   "id": "4633a985",
   "metadata": {},
   "outputs": [],
   "source": [
    "pdal pipeline ./pipelines/NoiseFilter.json"
   ]
  },
  {
   "cell_type": "code",
   "execution_count": null,
   "id": "a7c7b3ce",
   "metadata": {},
   "outputs": [],
   "source": [
    "pdal info ./data/FoxIsland_Clean.laz --stats --filters.stats.dimensions=Classification  --filters.stats.count=Classification"
   ]
  },
  {
   "cell_type": "markdown",
   "id": "bd2ad888",
   "metadata": {},
   "source": [
    "# Thinning Data"
   ]
  },
  {
   "cell_type": "markdown",
   "id": "2060bd17",
   "metadata": {},
   "source": [
    "Point cloud files can often be quite large and cumbersome to work with.  Depending on the objective, it is often useful to thin a dataset in order to make it easier and faster to work with. The [filters.sample](https://pdal.io/en/2.5.3/stages/filters.sample.html#filters-sample) utilizes a Poisson sampling to thin the dataset."
   ]
  },
  {
   "cell_type": "code",
   "execution_count": null,
   "id": "9a8f8e4d",
   "metadata": {},
   "outputs": [],
   "source": [
    "pdal translate ./data/FoxIsland_Clean.laz ./data/FoxIsland_Clean_Thin1m.laz sample --filters.sample.radius=1"
   ]
  },
  {
   "cell_type": "markdown",
   "id": "cc31a1e9",
   "metadata": {},
   "source": [
    "# Ground Classifications"
   ]
  },
  {
   "cell_type": "code",
   "execution_count": null,
   "id": "13d6ca2f",
   "metadata": {},
   "outputs": [],
   "source": [
    "pdal pipeline ./pipelines/ExtractGround.json"
   ]
  },
  {
   "cell_type": "code",
   "execution_count": null,
   "id": "656e71ae",
   "metadata": {},
   "outputs": [],
   "source": [
    "pdal pipeline ./pipelines/CreateGround.json"
   ]
  },
  {
   "cell_type": "markdown",
   "id": "dec4f847",
   "metadata": {},
   "source": [
    "# Create Rasters"
   ]
  },
  {
   "cell_type": "code",
   "execution_count": null,
   "id": "9aea33d2",
   "metadata": {},
   "outputs": [],
   "source": [
    "pdal pipeline ./pipelines/CreateDSM.json"
   ]
  },
  {
   "cell_type": "code",
   "execution_count": null,
   "id": "26361de5",
   "metadata": {},
   "outputs": [],
   "source": [
    "pdal pipeline ./pipelines/CreateDTM.json"
   ]
  },
  {
   "cell_type": "markdown",
   "id": "b9d42cc0",
   "metadata": {},
   "source": []
  },
  {
   "cell_type": "code",
   "execution_count": null,
   "id": "4d69a151",
   "metadata": {},
   "outputs": [],
   "source": []
  }
 ],
 "metadata": {
  "kernelspec": {
   "display_name": "Bash",
   "language": "bash",
   "name": "bash"
  },
  "language_info": {
   "codemirror_mode": "shell",
   "file_extension": ".sh",
   "mimetype": "text/x-sh",
   "name": "bash"
  }
 },
 "nbformat": 4,
 "nbformat_minor": 5
}
