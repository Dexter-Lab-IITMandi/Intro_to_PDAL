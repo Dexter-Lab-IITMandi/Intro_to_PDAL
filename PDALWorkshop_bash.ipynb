{
 "cells": [
  {
   "cell_type": "markdown",
   "id": "fd1ca206",
   "metadata": {},
   "source": [
    "# Inspecting a LAS/LAZ file"
   ]
  },
  {
   "cell_type": "code",
   "execution_count": 2,
   "id": "02c63012",
   "metadata": {
    "ExecuteTime": {
     "end_time": "2023-04-19T19:09:04.135881Z",
     "start_time": "2023-04-19T19:09:03.844773Z"
    }
   },
   "outputs": [
    {
     "name": "stdout",
     "output_type": "stream",
     "text": [
      "--------------------------------------------------------------------------------\n",
      "pdal 2.5.3 (git-version: Release)\n",
      "--------------------------------------------------------------------------------\n",
      "\n"
     ]
    }
   ],
   "source": [
    "pdal --version"
   ]
  },
  {
   "cell_type": "code",
   "execution_count": 3,
   "id": "77056288",
   "metadata": {
    "ExecuteTime": {
     "end_time": "2023-04-19T19:09:09.907178Z",
     "start_time": "2023-04-19T19:09:09.730175Z"
    }
   },
   "outputs": [
    {
     "name": "stdout",
     "output_type": "stream",
     "text": [
      "total 53064\n",
      "-rw-r--r--@ 1 beckley  staff  27167488 Apr 18 10:04 OR_WizardIsland.laz\n"
     ]
    }
   ],
   "source": [
    "ls -l ./data"
   ]
  },
  {
   "cell_type": "markdown",
   "id": "1520e393",
   "metadata": {},
   "source": [
    "In general, it is best to use absolute paths to specify paths to datafiles.  Relative paths (e.g. './data/file.laz', '$PWD/data/file.laz') may cause issues."
   ]
  },
  {
   "cell_type": "code",
   "execution_count": 66,
   "id": "03376a04",
   "metadata": {
    "ExecuteTime": {
     "end_time": "2023-04-26T16:46:29.134303Z",
     "start_time": "2023-04-26T16:46:29.023705Z"
    }
   },
   "outputs": [
    {
     "name": "stdout",
     "output_type": "stream",
     "text": [
      "/Users/beckley/Documents/OT/meetings/RCN_May2023/notebook\n"
     ]
    }
   ],
   "source": [
    "pwd"
   ]
  },
  {
   "cell_type": "code",
   "execution_count": 74,
   "id": "34356ef4",
   "metadata": {
    "ExecuteTime": {
     "end_time": "2023-04-26T17:28:10.998493Z",
     "start_time": "2023-04-26T17:28:10.705749Z"
    }
   },
   "outputs": [
    {
     "name": "stdout",
     "output_type": "stream",
     "text": [
      "/Users/beckley/Documents/OT/meetings/RCN_May2023/notebook/data/OR_WizardIsland.laz\n",
      "/Users/beckley/Documents/OT/meetings/RCN_May2023/notebook\n"
     ]
    }
   ],
   "source": [
    "laz_file=$PWD'/data/OR_WizardIsland.laz'\n",
    "CWD=`pwd`\n",
    "echo $laz_file\n",
    "echo $CWD"
   ]
  },
  {
   "cell_type": "markdown",
   "id": "7f1dfee1",
   "metadata": {},
   "source": [
    "## Metadata"
   ]
  },
  {
   "cell_type": "code",
   "execution_count": 5,
   "id": "3083b9e2",
   "metadata": {
    "ExecuteTime": {
     "end_time": "2023-04-19T19:09:18.369010Z",
     "start_time": "2023-04-19T19:09:17.584186Z"
    }
   },
   "outputs": [
    {
     "name": "stdout",
     "output_type": "stream",
     "text": [
      "{\n",
      "  \"file_size\": 27167488,\n",
      "  \"filename\": \"/Users/beckley/Documents/OT/meetings/RCN_May2023/notebook/data/OR_WizardIsland.laz\",\n",
      "  \"metadata\":\n",
      "  {\n",
      "    \"comp_spatialreference\": \"PROJCS[\\\"NAD83 / Oregon GIC Lambert (ft)\\\",GEOGCS[\\\"NAD83\\\",DATUM[\\\"North_American_Datum_1983\\\",SPHEROID[\\\"GRS 1980\\\",6378137,298.257222101,AUTHORITY[\\\"EPSG\\\",\\\"7019\\\"]],AUTHORITY[\\\"EPSG\\\",\\\"6269\\\"]],PRIMEM[\\\"Greenwich\\\",0,AUTHORITY[\\\"EPSG\\\",\\\"8901\\\"]],UNIT[\\\"degree\\\",0.0174532925199433,AUTHORITY[\\\"EPSG\\\",\\\"9122\\\"]],AUTHORITY[\\\"EPSG\\\",\\\"4269\\\"]],PROJECTION[\\\"Lambert_Conformal_Conic_2SP\\\"],PARAMETER[\\\"latitude_of_origin\\\",41.75],PARAMETER[\\\"central_meridian\\\",-120.5],PARAMETER[\\\"standard_parallel_1\\\",43],PARAMETER[\\\"standard_parallel_2\\\",45.5],PARAMETER[\\\"false_easting\\\",1312335.958],PARAMETER[\\\"false_northing\\\",0],UNIT[\\\"foot\\\",0.3048,AUTHORITY[\\\"EPSG\\\",\\\"9002\\\"]],AXIS[\\\"Easting\\\",EAST],AXIS[\\\"Northing\\\",NORTH],AUTHORITY[\\\"EPSG\\\",\\\"2992\\\"]]\",\n",
      "    \"compressed\": true,\n",
      "    \"copc\": false,\n",
      "    \"count\": 5878047,\n",
      "    \"creation_doy\": 107,\n",
      "    \"creation_year\": 2023,\n",
      "    \"dataformat_id\": 1,\n",
      "    \"dataoffset\": 1284,\n",
      "    \"filesource_id\": 0,\n",
      "    \"global_encoding\": 0,\n",
      "    \"global_encoding_base64\": \"AAA=\",\n",
      "    \"gtiff\": \"Geotiff_Information:\\n   Version: 1\\n   Key_Revision: 1.0\\n   Tagged_Information:\\n      End_Of_Tags.\\n   Keyed_Information:\\n      GTModelTypeGeoKey (Short,1): ModelTypeProjected\\n      GTRasterTypeGeoKey (Short,1): RasterPixelIsArea\\n      GTCitationGeoKey (Ascii,28): \\\"NAD83 / Oregon Lambert (ft)\\\"\\n      GeogCitationGeoKey (Ascii,6): \\\"NAD83\\\"\\n      GeogAngularUnitsGeoKey (Short,1): Angular_Degree\\n      ProjectedCSTypeGeoKey (Short,1): Code-2992 (NAD83 / Oregon GIC Lambert (ft))\\n      ProjLinearUnitsGeoKey (Short,1): Linear_Foot\\n      End_Of_Keys.\\n   End_Of_Geotiff.\\n\",\n",
      "    \"header_size\": 227,\n",
      "    \"major_version\": 1,\n",
      "    \"maxx\": 873448.1,\n",
      "    \"maxy\": 438854.95,\n",
      "    \"maxz\": 6960.01,\n",
      "    \"minor_version\": 2,\n",
      "    \"minx\": 870920.41,\n",
      "    \"miny\": 436914.9,\n",
      "    \"minz\": 6172.44,\n",
      "    \"offset_x\": 0,\n",
      "    \"offset_y\": 0,\n",
      "    \"offset_z\": 0,\n",
      "    \"point_length\": 28,\n",
      "    \"project_id\": \"00000000-0000-0000-0000-000000000000\",\n",
      "    \"scale_x\": 0.01,\n",
      "    \"scale_y\": 0.01,\n",
      "    \"scale_z\": 0.01,\n",
      "    \"software_id\": \"las2las (version 120813) + OT\",\n",
      "    \"spatialreference\": \"PROJCS[\\\"NAD83 / Oregon GIC Lambert (ft)\\\",GEOGCS[\\\"NAD83\\\",DATUM[\\\"North_American_Datum_1983\\\",SPHEROID[\\\"GRS 1980\\\",6378137,298.257222101,AUTHORITY[\\\"EPSG\\\",\\\"7019\\\"]],AUTHORITY[\\\"EPSG\\\",\\\"6269\\\"]],PRIMEM[\\\"Greenwich\\\",0,AUTHORITY[\\\"EPSG\\\",\\\"8901\\\"]],UNIT[\\\"degree\\\",0.0174532925199433,AUTHORITY[\\\"EPSG\\\",\\\"9122\\\"]],AUTHORITY[\\\"EPSG\\\",\\\"4269\\\"]],PROJECTION[\\\"Lambert_Conformal_Conic_2SP\\\"],PARAMETER[\\\"latitude_of_origin\\\",41.75],PARAMETER[\\\"central_meridian\\\",-120.5],PARAMETER[\\\"standard_parallel_1\\\",43],PARAMETER[\\\"standard_parallel_2\\\",45.5],PARAMETER[\\\"false_easting\\\",1312335.958],PARAMETER[\\\"false_northing\\\",0],UNIT[\\\"foot\\\",0.3048,AUTHORITY[\\\"EPSG\\\",\\\"9002\\\"]],AXIS[\\\"Easting\\\",EAST],AXIS[\\\"Northing\\\",NORTH],AUTHORITY[\\\"EPSG\\\",\\\"2992\\\"]]\",\n",
      "    \"srs\":\n",
      "    {\n",
      "      \"compoundwkt\": \"PROJCS[\\\"NAD83 / Oregon GIC Lambert (ft)\\\",GEOGCS[\\\"NAD83\\\",DATUM[\\\"North_American_Datum_1983\\\",SPHEROID[\\\"GRS 1980\\\",6378137,298.257222101,AUTHORITY[\\\"EPSG\\\",\\\"7019\\\"]],AUTHORITY[\\\"EPSG\\\",\\\"6269\\\"]],PRIMEM[\\\"Greenwich\\\",0,AUTHORITY[\\\"EPSG\\\",\\\"8901\\\"]],UNIT[\\\"degree\\\",0.0174532925199433,AUTHORITY[\\\"EPSG\\\",\\\"9122\\\"]],AUTHORITY[\\\"EPSG\\\",\\\"4269\\\"]],PROJECTION[\\\"Lambert_Conformal_Conic_2SP\\\"],PARAMETER[\\\"latitude_of_origin\\\",41.75],PARAMETER[\\\"central_meridian\\\",-120.5],PARAMETER[\\\"standard_parallel_1\\\",43],PARAMETER[\\\"standard_parallel_2\\\",45.5],PARAMETER[\\\"false_easting\\\",1312335.958],PARAMETER[\\\"false_northing\\\",0],UNIT[\\\"foot\\\",0.3048,AUTHORITY[\\\"EPSG\\\",\\\"9002\\\"]],AXIS[\\\"Easting\\\",EAST],AXIS[\\\"Northing\\\",NORTH],AUTHORITY[\\\"EPSG\\\",\\\"2992\\\"]]\",\n",
      "      \"horizontal\": \"PROJCS[\\\"NAD83 / Oregon GIC Lambert (ft)\\\",GEOGCS[\\\"NAD83\\\",DATUM[\\\"North_American_Datum_1983\\\",SPHEROID[\\\"GRS 1980\\\",6378137,298.257222101,AUTHORITY[\\\"EPSG\\\",\\\"7019\\\"]],AUTHORITY[\\\"EPSG\\\",\\\"6269\\\"]],PRIMEM[\\\"Greenwich\\\",0,AUTHORITY[\\\"EPSG\\\",\\\"8901\\\"]],UNIT[\\\"degree\\\",0.0174532925199433,AUTHORITY[\\\"EPSG\\\",\\\"9122\\\"]],AUTHORITY[\\\"EPSG\\\",\\\"4269\\\"]],PROJECTION[\\\"Lambert_Conformal_Conic_2SP\\\"],PARAMETER[\\\"latitude_of_origin\\\",41.75],PARAMETER[\\\"central_meridian\\\",-120.5],PARAMETER[\\\"standard_parallel_1\\\",43],PARAMETER[\\\"standard_parallel_2\\\",45.5],PARAMETER[\\\"false_easting\\\",1312335.958],PARAMETER[\\\"false_northing\\\",0],UNIT[\\\"foot\\\",0.3048,AUTHORITY[\\\"EPSG\\\",\\\"9002\\\"]],AXIS[\\\"Easting\\\",EAST],AXIS[\\\"Northing\\\",NORTH],AUTHORITY[\\\"EPSG\\\",\\\"2992\\\"]]\",\n",
      "      \"isgeocentric\": false,\n",
      "      \"isgeographic\": false,\n",
      "      \"json\": {\n",
      "  \"type\": \"ProjectedCRS\",\n",
      "  \"name\": \"NAD83 / Oregon GIC Lambert (ft)\",\n",
      "  \"base_crs\": {\n",
      "    \"name\": \"NAD83\",\n",
      "    \"datum\": {\n",
      "      \"type\": \"GeodeticReferenceFrame\",\n",
      "      \"name\": \"North American Datum 1983\",\n",
      "      \"ellipsoid\": {\n",
      "        \"name\": \"GRS 1980\",\n",
      "        \"semi_major_axis\": 6378137,\n",
      "        \"inverse_flattening\": 298.257222101\n",
      "      }\n",
      "    },\n",
      "    \"coordinate_system\": {\n",
      "      \"subtype\": \"ellipsoidal\",\n",
      "      \"axis\": [\n",
      "        {\n",
      "          \"name\": \"Geodetic latitude\",\n",
      "          \"abbreviation\": \"Lat\",\n",
      "          \"direction\": \"north\",\n",
      "          \"unit\": \"degree\"\n",
      "        },\n",
      "        {\n",
      "          \"name\": \"Geodetic longitude\",\n",
      "          \"abbreviation\": \"Lon\",\n",
      "          \"direction\": \"east\",\n",
      "          \"unit\": \"degree\"\n",
      "        }\n",
      "      ]\n",
      "    },\n",
      "    \"id\": {\n",
      "      \"authority\": \"EPSG\",\n",
      "      \"code\": 4269\n",
      "    }\n",
      "  },\n",
      "  \"conversion\": {\n",
      "    \"name\": \"unnamed\",\n",
      "    \"method\": {\n",
      "      \"name\": \"Lambert Conic Conformal (2SP)\",\n",
      "      \"id\": {\n",
      "        \"authority\": \"EPSG\",\n",
      "        \"code\": 9802\n",
      "      }\n",
      "    },\n",
      "    \"parameters\": [\n",
      "      {\n",
      "        \"name\": \"Latitude of false origin\",\n",
      "        \"value\": 41.75,\n",
      "        \"unit\": \"degree\",\n",
      "        \"id\": {\n",
      "          \"authority\": \"EPSG\",\n",
      "          \"code\": 8821\n",
      "        }\n",
      "      },\n",
      "      {\n",
      "        \"name\": \"Longitude of false origin\",\n",
      "        \"value\": -120.5,\n",
      "        \"unit\": \"degree\",\n",
      "        \"id\": {\n",
      "          \"authority\": \"EPSG\",\n",
      "          \"code\": 8822\n",
      "        }\n",
      "      },\n",
      "      {\n",
      "        \"name\": \"Latitude of 1st standard parallel\",\n",
      "        \"value\": 43,\n",
      "        \"unit\": \"degree\",\n",
      "        \"id\": {\n",
      "          \"authority\": \"EPSG\",\n",
      "          \"code\": 8823\n",
      "        }\n",
      "      },\n",
      "      {\n",
      "        \"name\": \"Latitude of 2nd standard parallel\",\n",
      "        \"value\": 45.5,\n",
      "        \"unit\": \"degree\",\n",
      "        \"id\": {\n",
      "          \"authority\": \"EPSG\",\n",
      "          \"code\": 8824\n",
      "        }\n",
      "      },\n",
      "      {\n",
      "        \"name\": \"Easting at false origin\",\n",
      "        \"value\": 1312335.958,\n",
      "        \"unit\": {\n",
      "          \"type\": \"LinearUnit\",\n",
      "          \"name\": \"foot\",\n",
      "          \"conversion_factor\": 0.3048\n",
      "        },\n",
      "        \"id\": {\n",
      "          \"authority\": \"EPSG\",\n",
      "          \"code\": 8826\n",
      "        }\n",
      "      },\n",
      "      {\n",
      "        \"name\": \"Northing at false origin\",\n",
      "        \"value\": 0,\n",
      "        \"unit\": {\n",
      "          \"type\": \"LinearUnit\",\n",
      "          \"name\": \"foot\",\n",
      "          \"conversion_factor\": 0.3048\n",
      "        },\n",
      "        \"id\": {\n",
      "          \"authority\": \"EPSG\",\n",
      "          \"code\": 8827\n",
      "        }\n",
      "      }\n",
      "    ]\n",
      "  },\n",
      "  \"coordinate_system\": {\n",
      "    \"subtype\": \"Cartesian\",\n",
      "    \"axis\": [\n",
      "      {\n",
      "        \"name\": \"Easting\",\n",
      "        \"abbreviation\": \"\",\n",
      "        \"direction\": \"east\",\n",
      "        \"unit\": {\n",
      "          \"type\": \"LinearUnit\",\n",
      "          \"name\": \"foot\",\n",
      "          \"conversion_factor\": 0.3048\n",
      "        }\n",
      "      },\n",
      "      {\n",
      "        \"name\": \"Northing\",\n",
      "        \"abbreviation\": \"\",\n",
      "        \"direction\": \"north\",\n",
      "        \"unit\": {\n",
      "          \"type\": \"LinearUnit\",\n",
      "          \"name\": \"foot\",\n",
      "          \"conversion_factor\": 0.3048\n",
      "        }\n",
      "      }\n",
      "    ]\n",
      "  },\n",
      "  \"id\": {\n",
      "    \"authority\": \"EPSG\",\n",
      "    \"code\": 2992\n",
      "  }\n",
      "},\n",
      "      \"prettycompoundwkt\": \"PROJCS[\\\"NAD83 / Oregon GIC Lambert (ft)\\\",\\n    GEOGCS[\\\"NAD83\\\",\\n        DATUM[\\\"North_American_Datum_1983\\\",\\n            SPHEROID[\\\"GRS 1980\\\",6378137,298.257222101,\\n                AUTHORITY[\\\"EPSG\\\",\\\"7019\\\"]],\\n            AUTHORITY[\\\"EPSG\\\",\\\"6269\\\"]],\\n        PRIMEM[\\\"Greenwich\\\",0,\\n            AUTHORITY[\\\"EPSG\\\",\\\"8901\\\"]],\\n        UNIT[\\\"degree\\\",0.0174532925199433,\\n            AUTHORITY[\\\"EPSG\\\",\\\"9122\\\"]],\\n        AUTHORITY[\\\"EPSG\\\",\\\"4269\\\"]],\\n    PROJECTION[\\\"Lambert_Conformal_Conic_2SP\\\"],\\n    PARAMETER[\\\"latitude_of_origin\\\",41.75],\\n    PARAMETER[\\\"central_meridian\\\",-120.5],\\n    PARAMETER[\\\"standard_parallel_1\\\",43],\\n    PARAMETER[\\\"standard_parallel_2\\\",45.5],\\n    PARAMETER[\\\"false_easting\\\",1312335.958],\\n    PARAMETER[\\\"false_northing\\\",0],\\n    UNIT[\\\"foot\\\",0.3048,\\n        AUTHORITY[\\\"EPSG\\\",\\\"9002\\\"]],\\n    AXIS[\\\"Easting\\\",EAST],\\n    AXIS[\\\"Northing\\\",NORTH],\\n    AUTHORITY[\\\"EPSG\\\",\\\"2992\\\"]]\",\n"
     ]
    },
    {
     "name": "stdout",
     "output_type": "stream",
     "text": [
      "      \"prettywkt\": \"PROJCS[\\\"NAD83 / Oregon GIC Lambert (ft)\\\",\\n    GEOGCS[\\\"NAD83\\\",\\n        DATUM[\\\"North_American_Datum_1983\\\",\\n            SPHEROID[\\\"GRS 1980\\\",6378137,298.257222101,\\n                AUTHORITY[\\\"EPSG\\\",\\\"7019\\\"]],\\n            AUTHORITY[\\\"EPSG\\\",\\\"6269\\\"]],\\n        PRIMEM[\\\"Greenwich\\\",0,\\n            AUTHORITY[\\\"EPSG\\\",\\\"8901\\\"]],\\n        UNIT[\\\"degree\\\",0.0174532925199433,\\n            AUTHORITY[\\\"EPSG\\\",\\\"9122\\\"]],\\n        AUTHORITY[\\\"EPSG\\\",\\\"4269\\\"]],\\n    PROJECTION[\\\"Lambert_Conformal_Conic_2SP\\\"],\\n    PARAMETER[\\\"latitude_of_origin\\\",41.75],\\n    PARAMETER[\\\"central_meridian\\\",-120.5],\\n    PARAMETER[\\\"standard_parallel_1\\\",43],\\n    PARAMETER[\\\"standard_parallel_2\\\",45.5],\\n    PARAMETER[\\\"false_easting\\\",1312335.958],\\n    PARAMETER[\\\"false_northing\\\",0],\\n    UNIT[\\\"foot\\\",0.3048,\\n        AUTHORITY[\\\"EPSG\\\",\\\"9002\\\"]],\\n    AXIS[\\\"Easting\\\",EAST],\\n    AXIS[\\\"Northing\\\",NORTH],\\n    AUTHORITY[\\\"EPSG\\\",\\\"2992\\\"]]\",\n",
      "      \"proj4\": \"+proj=lcc +lat_0=41.75 +lon_0=-120.5 +lat_1=43 +lat_2=45.5 +x_0=399999.9999984 +y_0=0 +datum=NAD83 +units=ft +no_defs\",\n",
      "      \"units\":\n",
      "      {\n",
      "        \"horizontal\": \"foot\",\n",
      "        \"vertical\": \"\"\n",
      "      },\n",
      "      \"vertical\": \"\",\n",
      "      \"wkt\": \"PROJCS[\\\"NAD83 / Oregon GIC Lambert (ft)\\\",GEOGCS[\\\"NAD83\\\",DATUM[\\\"North_American_Datum_1983\\\",SPHEROID[\\\"GRS 1980\\\",6378137,298.257222101,AUTHORITY[\\\"EPSG\\\",\\\"7019\\\"]],AUTHORITY[\\\"EPSG\\\",\\\"6269\\\"]],PRIMEM[\\\"Greenwich\\\",0,AUTHORITY[\\\"EPSG\\\",\\\"8901\\\"]],UNIT[\\\"degree\\\",0.0174532925199433,AUTHORITY[\\\"EPSG\\\",\\\"9122\\\"]],AUTHORITY[\\\"EPSG\\\",\\\"4269\\\"]],PROJECTION[\\\"Lambert_Conformal_Conic_2SP\\\"],PARAMETER[\\\"latitude_of_origin\\\",41.75],PARAMETER[\\\"central_meridian\\\",-120.5],PARAMETER[\\\"standard_parallel_1\\\",43],PARAMETER[\\\"standard_parallel_2\\\",45.5],PARAMETER[\\\"false_easting\\\",1312335.958],PARAMETER[\\\"false_northing\\\",0],UNIT[\\\"foot\\\",0.3048,AUTHORITY[\\\"EPSG\\\",\\\"9002\\\"]],AXIS[\\\"Easting\\\",EAST],AXIS[\\\"Northing\\\",NORTH],AUTHORITY[\\\"EPSG\\\",\\\"2992\\\"]]\"\n",
      "    },\n",
      "    \"system_id\": \"LAStools (c) by rapidlasso GmbH\",\n",
      "    \"vlr_0\":\n",
      "    {\n",
      "      \"data\": \"AQABAAAABwAABAAAAQABAAEEAAABAAEAAgSxhxwAAAABCLGHBgAcAAYIAAABAI4jAAwAAAEAsAsEDAAAAQAqIw==\",\n",
      "      \"description\": \"GeoTIFF GeoKeyDirectoryTag\",\n",
      "      \"record_id\": 34735,\n",
      "      \"user_id\": \"LASF_Projection\"\n",
      "    },\n",
      "    \"vlr_1\":\n",
      "    {\n",
      "      \"data\": \"TkFEODMgLyBPcmVnb24gTGFtYmVydCAoZnQpfE5BRDgzfA==\",\n",
      "      \"description\": \"GeoTIFF GeoAsciiParamsTag\",\n",
      "      \"record_id\": 34737,\n",
      "      \"user_id\": \"LASF_Projection\"\n",
      "    },\n",
      "    \"vlr_2\":\n",
      "    {\n",
      "      \"data\": \"UFJPSkNTWyJOQUQ4MyAvIE9yZWdvbiBMYW1iZXJ0IChmdCkiLEdFT0dDU1siTkFEODMiLERBVFVNWyJOb3J0aF9BbWVyaWNhbl9EYXR1bV8xOTgzIixTUEhFUk9JRFsiR1JTIDE5ODAiLDYzNzgxMzcsMjk4LjI1NzIyMjEwMSxBVVRIT1JJVFlbIkVQU0ciLCI3MDE5Il1dLFRPV0dTODRbMCwwLDAsMCwwLDAsMF0sQVVUSE9SSVRZWyJFUFNHIiwiNjI2OSJdXSxQUklNRU1bIkdyZWVud2ljaCIsMCxBVVRIT1JJVFlbIkVQU0ciLCI4OTAxIl1dLFVOSVRbImRlZ3JlZSIsMC4wMTc0NTMyOTI1MTk5NDMzLEFVVEhPUklUWVsiRVBTRyIsIjkxMjIiXV0sQVVUSE9SSVRZWyJFUFNHIiwiNDI2OSJdXSxVTklUWyJmb290IiwwLjMwNDgsQVVUSE9SSVRZWyJFUFNHIiwiOTAwMiJdXSxQUk9KRUNUSU9OWyJMYW1iZXJ0X0NvbmZvcm1hbF9Db25pY18yU1AiXSxQQVJBTUVURVJbInN0YW5kYXJkX3BhcmFsbGVsXzEiLDQzXSxQQVJBTUVURVJbInN0YW5kYXJkX3BhcmFsbGVsXzIiLDQ1LjVdLFBBUkFNRVRFUlsibGF0aXR1ZGVfb2Zfb3JpZ2luIiw0MS43NV0sUEFSQU1FVEVSWyJjZW50cmFsX21lcmlkaWFuIiwtMTIwLjVdLFBBUkFNRVRFUlsiZmFsc2VfZWFzdGluZyIsMTMxMjMzNS45NThdLFBBUkFNRVRFUlsiZmFsc2Vfbm9ydGhpbmciLDBdLEFVVEhPUklUWVsiRVBTRyIsIjI5OTIiXSxBWElTWyJYIixFQVNUXSxBWElTWyJZIixOT1JUSF1dAA==\",\n",
      "      \"description\": \"OGR variant of OpenGIS WKT SRS\",\n",
      "      \"record_id\": 2112,\n",
      "      \"user_id\": \"liblas\"\n",
      "    },\n",
      "    \"vlr_3\":\n",
      "    {\n",
      "      \"data\": \"AgAAAAMEAQAAAAAAUMMAAP////////////////////8CAAYAFAACAAcACAACAA==\",\n",
      "      \"description\": \"by laszip of LAStools (190927)\",\n",
      "      \"record_id\": 22204,\n",
      "      \"user_id\": \"laszip encoded\"\n",
      "    }\n",
      "  },\n",
      "  \"now\": \"2023-04-19T13:09:18-0600\",\n",
      "  \"pdal_version\": \"2.5.3 (git-version: Release)\",\n",
      "  \"reader\": \"readers.las\"\n",
      "}\n"
     ]
    }
   ],
   "source": [
    "pdal info --metadata $laz_file"
   ]
  },
  {
   "cell_type": "markdown",
   "id": "73649ea2",
   "metadata": {},
   "source": [
    "## Printing Points"
   ]
  },
  {
   "cell_type": "markdown",
   "id": "bdd2c04b",
   "metadata": {},
   "source": [
    "Print the values for the first point in the file:"
   ]
  },
  {
   "cell_type": "code",
   "execution_count": 6,
   "id": "d65bb644",
   "metadata": {
    "ExecuteTime": {
     "end_time": "2023-04-19T19:10:27.891104Z",
     "start_time": "2023-04-19T19:10:24.254352Z"
    },
    "scrolled": true
   },
   "outputs": [
    {
     "name": "stdout",
     "output_type": "stream",
     "text": [
      "{\n",
      "  \"file_size\": 27167488,\n",
      "  \"filename\": \"/Users/beckley/Documents/OT/meetings/RCN_May2023/notebook/data/OR_WizardIsland.laz\",\n",
      "  \"now\": \"2023-04-19T13:10:27-0600\",\n",
      "  \"pdal_version\": \"2.5.3 (git-version: Release)\",\n",
      "  \"points\":\n",
      "  {\n",
      "    \"point\":\n",
      "    {\n",
      "      \"Classification\": 2,\n",
      "      \"EdgeOfFlightLine\": 0,\n",
      "      \"GpsTime\": 500486.8319,\n",
      "      \"Intensity\": 49,\n",
      "      \"NumberOfReturns\": 1,\n",
      "      \"PointId\": 0,\n",
      "      \"PointSourceId\": 558,\n",
      "      \"ReturnNumber\": 1,\n",
      "      \"ScanAngleRank\": 0,\n",
      "      \"ScanDirectionFlag\": 1,\n",
      "      \"UserData\": 120,\n",
      "      \"X\": 870920.64,\n",
      "      \"Y\": 438092.59,\n",
      "      \"Z\": 6638.35\n",
      "    }\n",
      "  },\n",
      "  \"reader\": \"readers.las\"\n",
      "}\n"
     ]
    }
   ],
   "source": [
    "pdal info $laz_file -p 0"
   ]
  },
  {
   "cell_type": "markdown",
   "id": "1131ff0b",
   "metadata": {},
   "source": [
    "Print the values for the first 5 points in the file"
   ]
  },
  {
   "cell_type": "code",
   "execution_count": 7,
   "id": "b12b4d2d",
   "metadata": {
    "ExecuteTime": {
     "end_time": "2023-04-19T19:11:51.695469Z",
     "start_time": "2023-04-19T19:11:47.863845Z"
    }
   },
   "outputs": [
    {
     "name": "stdout",
     "output_type": "stream",
     "text": [
      "{\n",
      "  \"file_size\": 27167488,\n",
      "  \"filename\": \"/Users/beckley/Documents/OT/meetings/RCN_May2023/notebook/data/OR_WizardIsland.laz\",\n",
      "  \"now\": \"2023-04-19T13:11:51-0600\",\n",
      "  \"pdal_version\": \"2.5.3 (git-version: Release)\",\n",
      "  \"points\":\n",
      "  {\n",
      "    \"point\":\n",
      "    [\n",
      "      {\n",
      "        \"Classification\": 2,\n",
      "        \"EdgeOfFlightLine\": 0,\n",
      "        \"GpsTime\": 500486.8319,\n",
      "        \"Intensity\": 49,\n",
      "        \"NumberOfReturns\": 1,\n",
      "        \"PointId\": 0,\n",
      "        \"PointSourceId\": 558,\n",
      "        \"ReturnNumber\": 1,\n",
      "        \"ScanAngleRank\": 0,\n",
      "        \"ScanDirectionFlag\": 1,\n",
      "        \"UserData\": 120,\n",
      "        \"X\": 870920.64,\n",
      "        \"Y\": 438092.59,\n",
      "        \"Z\": 6638.35\n",
      "      },\n",
      "      {\n",
      "        \"Classification\": 2,\n",
      "        \"EdgeOfFlightLine\": 0,\n",
      "        \"GpsTime\": 500486.832,\n",
      "        \"Intensity\": 72,\n",
      "        \"NumberOfReturns\": 1,\n",
      "        \"PointId\": 1,\n",
      "        \"PointSourceId\": 558,\n",
      "        \"ReturnNumber\": 1,\n",
      "        \"ScanAngleRank\": 0,\n",
      "        \"ScanDirectionFlag\": 1,\n",
      "        \"UserData\": 121,\n",
      "        \"X\": 870923.62,\n",
      "        \"Y\": 438092.68,\n",
      "        \"Z\": 6639.99\n",
      "      },\n",
      "      {\n",
      "        \"Classification\": 1,\n",
      "        \"EdgeOfFlightLine\": 0,\n",
      "        \"GpsTime\": 500486.839,\n",
      "        \"Intensity\": 75,\n",
      "        \"NumberOfReturns\": 1,\n",
      "        \"PointId\": 2,\n",
      "        \"PointSourceId\": 558,\n",
      "        \"ReturnNumber\": 1,\n",
      "        \"ScanAngleRank\": 1,\n",
      "        \"ScanDirectionFlag\": 0,\n",
      "        \"UserData\": 120,\n",
      "        \"X\": 870937.27,\n",
      "        \"Y\": 438092.26,\n",
      "        \"Z\": 6648.06\n",
      "      },\n",
      "      {\n",
      "        \"Classification\": 1,\n",
      "        \"EdgeOfFlightLine\": 0,\n",
      "        \"GpsTime\": 500486.839,\n",
      "        \"Intensity\": 88,\n",
      "        \"NumberOfReturns\": 1,\n",
      "        \"PointId\": 3,\n",
      "        \"PointSourceId\": 558,\n",
      "        \"ReturnNumber\": 1,\n",
      "        \"ScanAngleRank\": 1,\n",
      "        \"ScanDirectionFlag\": 0,\n",
      "        \"UserData\": 121,\n",
      "        \"X\": 870934.32,\n",
      "        \"Y\": 438092.09,\n",
      "        \"Z\": 6646.19\n",
      "      },\n",
      "      {\n",
      "        \"Classification\": 2,\n",
      "        \"EdgeOfFlightLine\": 0,\n",
      "        \"GpsTime\": 500486.839,\n",
      "        \"Intensity\": 76,\n",
      "        \"NumberOfReturns\": 1,\n",
      "        \"PointId\": 4,\n",
      "        \"PointSourceId\": 558,\n",
      "        \"ReturnNumber\": 1,\n",
      "        \"ScanAngleRank\": 0,\n",
      "        \"ScanDirectionFlag\": 0,\n",
      "        \"UserData\": 120,\n",
      "        \"X\": 870931.4,\n",
      "        \"Y\": 438091.96,\n",
      "        \"Z\": 6644.36\n",
      "      },\n",
      "      {\n",
      "        \"Classification\": 2,\n",
      "        \"EdgeOfFlightLine\": 0,\n",
      "        \"GpsTime\": 500486.839,\n",
      "        \"Intensity\": 56,\n",
      "        \"NumberOfReturns\": 1,\n",
      "        \"PointId\": 5,\n",
      "        \"PointSourceId\": 558,\n",
      "        \"ReturnNumber\": 1,\n",
      "        \"ScanAngleRank\": 0,\n",
      "        \"ScanDirectionFlag\": 0,\n",
      "        \"UserData\": 121,\n",
      "        \"X\": 870928.45,\n",
      "        \"Y\": 438091.86,\n",
      "        \"Z\": 6642.72\n",
      "      },\n",
      "      {\n",
      "        \"Classification\": 2,\n",
      "        \"EdgeOfFlightLine\": 0,\n",
      "        \"GpsTime\": 500486.839,\n",
      "        \"Intensity\": 76,\n",
      "        \"NumberOfReturns\": 1,\n",
      "        \"PointId\": 6,\n",
      "        \"PointSourceId\": 558,\n",
      "        \"ReturnNumber\": 1,\n",
      "        \"ScanAngleRank\": 0,\n",
      "        \"ScanDirectionFlag\": 0,\n",
      "        \"UserData\": 121,\n",
      "        \"X\": 870925.4,\n",
      "        \"Y\": 438091.77,\n",
      "        \"Z\": 6641.31\n",
      "      },\n",
      "      {\n",
      "        \"Classification\": 1,\n",
      "        \"EdgeOfFlightLine\": 0,\n",
      "        \"GpsTime\": 500486.839,\n",
      "        \"Intensity\": 69,\n",
      "        \"NumberOfReturns\": 1,\n",
      "        \"PointId\": 7,\n",
      "        \"PointSourceId\": 558,\n",
      "        \"ReturnNumber\": 1,\n",
      "        \"ScanAngleRank\": 0,\n",
      "        \"ScanDirectionFlag\": 0,\n",
      "        \"UserData\": 121,\n",
      "        \"X\": 870922.44,\n",
      "        \"Y\": 438091.7,\n",
      "        \"Z\": 6639.73\n",
      "      },\n",
      "      {\n",
      "        \"Classification\": 1,\n",
      "        \"EdgeOfFlightLine\": 0,\n",
      "        \"GpsTime\": 500486.8466,\n",
      "        \"Intensity\": 98,\n",
      "        \"NumberOfReturns\": 1,\n",
      "        \"PointId\": 8,\n",
      "        \"PointSourceId\": 558,\n",
      "        \"ReturnNumber\": 1,\n",
      "        \"ScanAngleRank\": 0,\n",
      "        \"ScanDirectionFlag\": 1,\n",
      "        \"UserData\": 123,\n",
      "        \"X\": 870921.06,\n",
      "        \"Y\": 438090.55,\n",
      "        \"Z\": 6639.01\n",
      "      },\n",
      "      {\n",
      "        \"Classification\": 2,\n",
      "        \"EdgeOfFlightLine\": 0,\n",
      "        \"GpsTime\": 500486.8466,\n",
      "        \"Intensity\": 101,\n",
      "        \"NumberOfReturns\": 1,\n",
      "        \"PointId\": 9,\n",
      "        \"PointSourceId\": 558,\n",
      "        \"ReturnNumber\": 1,\n",
      "        \"ScanAngleRank\": 0,\n",
      "        \"ScanDirectionFlag\": 1,\n",
      "        \"UserData\": 123,\n",
      "        \"X\": 870924.02,\n",
      "        \"Y\": 438090.68,\n",
      "        \"Z\": 6640.75\n",
      "      },\n",
      "      {\n",
      "        \"Classification\": 1,\n",
      "        \"EdgeOfFlightLine\": 0,\n",
      "        \"GpsTime\": 500486.8466,\n",
      "        \"Intensity\": 112,\n",
      "        \"NumberOfReturns\": 1,\n",
      "        \"PointId\": 10,\n",
      "        \"PointSourceId\": 558,\n",
      "        \"ReturnNumber\": 1,\n",
      "        \"ScanAngleRank\": 0,\n",
      "        \"ScanDirectionFlag\": 1,\n",
      "        \"UserData\": 122,\n",
      "        \"X\": 870927,\n",
      "        \"Y\": 438090.81,\n",
      "        \"Z\": 6642.45\n",
      "      }\n",
      "    ]\n",
      "  },\n",
      "  \"reader\": \"readers.las\"\n",
      "}\n"
     ]
    }
   ],
   "source": [
    "pdal info $laz_file -p 0-10"
   ]
  },
  {
   "cell_type": "markdown",
   "id": "9017a7ea",
   "metadata": {},
   "source": [
    "Print the first 10 points, and extract only the elevation values using bash commands"
   ]
  },
  {
   "cell_type": "code",
   "execution_count": 16,
   "id": "df26c504",
   "metadata": {
    "ExecuteTime": {
     "end_time": "2023-04-19T19:28:47.715924Z",
     "start_time": "2023-04-19T19:28:43.856225Z"
    }
   },
   "outputs": [
    {
     "name": "stdout",
     "output_type": "stream",
     "text": [
      "6638.35\n",
      "6639.99\n",
      "6648.06\n",
      "6646.19\n",
      "6644.36\n",
      "6642.72\n",
      "6641.31\n",
      "6639.73\n",
      "6639.01\n",
      "6640.75\n",
      "6642.45\n"
     ]
    }
   ],
   "source": [
    "pdal info $laz_file -p 0-10|grep  \"Z\"|awk '{print $2}' FS=': '"
   ]
  },
  {
   "cell_type": "markdown",
   "id": "708d14f9",
   "metadata": {},
   "source": [
    "jq is a command line JSON parser, and can be a useful tool for these types of operations. Note if returning more than one point, specify \"[]\" to return all the points in the array."
   ]
  },
  {
   "cell_type": "code",
   "execution_count": 18,
   "id": "35f2936f",
   "metadata": {
    "ExecuteTime": {
     "end_time": "2023-04-19T19:35:38.979467Z",
     "start_time": "2023-04-19T19:35:35.551534Z"
    }
   },
   "outputs": [
    {
     "name": "stdout",
     "output_type": "stream",
     "text": [
      "\u001b[0;39m6638.35\u001b[0m\n",
      "\u001b[0;39m6639.99\u001b[0m\n",
      "\u001b[0;39m6648.06\u001b[0m\n",
      "\u001b[0;39m6646.19\u001b[0m\n",
      "\u001b[0;39m6644.36\u001b[0m\n",
      "\u001b[0;39m6642.72\u001b[0m\n",
      "\u001b[0;39m6641.31\u001b[0m\n",
      "\u001b[0;39m6639.73\u001b[0m\n",
      "\u001b[0;39m6639.01\u001b[0m\n",
      "\u001b[0;39m6640.75\u001b[0m\n",
      "\u001b[0;39m6642.45\u001b[0m\n"
     ]
    }
   ],
   "source": [
    "pdal info $laz_file -p 0-10|jq -r .points.point[].Z"
   ]
  },
  {
   "cell_type": "markdown",
   "id": "00dc003d",
   "metadata": {},
   "source": [
    "## Classifications"
   ]
  },
  {
   "cell_type": "markdown",
   "id": "1e6ac0b7",
   "metadata": {},
   "source": [
    "Use the [info application](https://pdal.io/en/2.4.3/apps/info.html) with the --stats flag and perform filtering to get a summary of the classifications for a given lidar file."
   ]
  },
  {
   "cell_type": "code",
   "execution_count": 20,
   "id": "4375493d",
   "metadata": {
    "ExecuteTime": {
     "end_time": "2023-04-25T19:27:58.092730Z",
     "start_time": "2023-04-25T19:27:54.062027Z"
    },
    "scrolled": true
   },
   "outputs": [
    {
     "name": "stdout",
     "output_type": "stream",
     "text": [
      "{\n",
      "  \"file_size\": 27167488,\n",
      "  \"filename\": \"./data/OR_WizardIsland.laz\",\n",
      "  \"now\": \"2023-04-25T13:27:58-0600\",\n",
      "  \"pdal_version\": \"2.5.3 (git-version: Release)\",\n",
      "  \"reader\": \"readers.las\",\n",
      "  \"stats\":\n",
      "  {\n",
      "    \"statistic\":\n",
      "    [\n",
      "      {\n",
      "        \"average\": 1.621197483,\n",
      "        \"count\": 5878047,\n",
      "        \"counts\":\n",
      "        [\n",
      "          \"1.000000/4413629\",\n",
      "          \"2.000000/1151988\",\n",
      "          \"9.000000/312430\"\n",
      "        ],\n",
      "        \"maximum\": 9,\n",
      "        \"minimum\": 1,\n",
      "        \"name\": \"Classification\",\n",
      "        \"position\": 0,\n",
      "        \"stddev\": 1.792156286,\n",
      "        \"variance\": 3.211824153\n",
      "      }\n",
      "    ]\n",
      "  }\n",
      "}\n"
     ]
    }
   ],
   "source": [
    "pdal info ./data/OR_WizardIsland.laz --stats --filters.stats.dimensions=Classification  --filters.stats.count=Classification"
   ]
  },
  {
   "cell_type": "markdown",
   "id": "fa7b65bd",
   "metadata": {},
   "source": [
    "Perform both a metadata dump and classification count and output to a JSON file:"
   ]
  },
  {
   "cell_type": "code",
   "execution_count": 22,
   "id": "49c2a009",
   "metadata": {
    "ExecuteTime": {
     "end_time": "2023-04-25T19:31:36.642648Z",
     "start_time": "2023-04-25T19:31:32.316818Z"
    }
   },
   "outputs": [],
   "source": [
    "pdal info --metadata --stats --filters.stats.dimensions=ReturnNumber,Classification --filters.stats.count=ReturnNumber,Classification ./data/OR_WizardIsland.laz > ./data/fileinfo.json"
   ]
  },
  {
   "cell_type": "markdown",
   "id": "8f337db6",
   "metadata": {},
   "source": [
    "## Reprojection"
   ]
  },
  {
   "cell_type": "code",
   "execution_count": 52,
   "id": "8c0b9c0e",
   "metadata": {
    "ExecuteTime": {
     "end_time": "2023-04-25T22:43:32.669872Z",
     "start_time": "2023-04-25T22:43:32.559556Z"
    }
   },
   "outputs": [],
   "source": [
    "cd pipelines"
   ]
  },
  {
   "cell_type": "code",
   "execution_count": 53,
   "id": "747c0fbe",
   "metadata": {
    "ExecuteTime": {
     "end_time": "2023-04-25T22:43:45.406978Z",
     "start_time": "2023-04-25T22:43:45.250190Z"
    }
   },
   "outputs": [
    {
     "name": "stdout",
     "output_type": "stream",
     "text": [
      "AddGeoid.json\t\tReproject_Ex.json\n"
     ]
    }
   ],
   "source": [
    "ls"
   ]
  },
  {
   "cell_type": "markdown",
   "id": "fd05f242",
   "metadata": {},
   "source": [
    "Run a pipeline to project a file from Oregon Lambert to Geographic Lat/Lon coordindates:"
   ]
  },
  {
   "cell_type": "code",
   "execution_count": 54,
   "id": "7e5c0e93",
   "metadata": {
    "ExecuteTime": {
     "end_time": "2023-04-25T22:44:13.009609Z",
     "start_time": "2023-04-25T22:43:59.534701Z"
    }
   },
   "outputs": [],
   "source": [
    "pdal pipeline Reproject_Ex.json"
   ]
  },
  {
   "cell_type": "code",
   "execution_count": 56,
   "id": "60d6a2bb",
   "metadata": {
    "ExecuteTime": {
     "end_time": "2023-04-25T22:45:06.740798Z",
     "start_time": "2023-04-25T22:45:06.533407Z"
    }
   },
   "outputs": [
    {
     "name": "stdout",
     "output_type": "stream",
     "text": [
      "OR_WizardIsland.laz\t\tSAF_Geoid.laz\n",
      "OR_WizardIsland_LatLon.laz\tg2003conus.gtx\n",
      "SAF_Ellipsoidal.laz\n"
     ]
    }
   ],
   "source": [
    "cd ../data\n",
    "ls"
   ]
  },
  {
   "cell_type": "markdown",
   "id": "ae531b86",
   "metadata": {},
   "source": [
    "Inspect the coordinates to make sure the xy values make sense.."
   ]
  },
  {
   "cell_type": "code",
   "execution_count": 57,
   "id": "dda3d278",
   "metadata": {
    "ExecuteTime": {
     "end_time": "2023-04-25T22:45:20.948038Z",
     "start_time": "2023-04-25T22:45:20.259864Z"
    }
   },
   "outputs": [
    {
     "name": "stdout",
     "output_type": "stream",
     "text": [
      "{\n",
      "  \"file_size\": 17909584,\n",
      "  \"filename\": \"OR_WizardIsland_LatLon.laz\",\n",
      "  \"metadata\":\n",
      "  {\n",
      "    \"comp_spatialreference\": \"GEOGCS[\\\"WGS 84\\\",DATUM[\\\"WGS_1984\\\",SPHEROID[\\\"WGS 84\\\",6378137,298.257223563,AUTHORITY[\\\"EPSG\\\",\\\"7030\\\"]],AUTHORITY[\\\"EPSG\\\",\\\"6326\\\"]],PRIMEM[\\\"Greenwich\\\",0,AUTHORITY[\\\"EPSG\\\",\\\"8901\\\"]],UNIT[\\\"degree\\\",0.0174532925199433,AUTHORITY[\\\"EPSG\\\",\\\"9122\\\"]],AXIS[\\\"Latitude\\\",NORTH],AXIS[\\\"Longitude\\\",EAST],AUTHORITY[\\\"EPSG\\\",\\\"4326\\\"]]\",\n",
      "    \"compressed\": true,\n",
      "    \"copc\": false,\n",
      "    \"count\": 5878047,\n",
      "    \"creation_doy\": 0,\n",
      "    \"creation_year\": 2023,\n",
      "    \"dataformat_id\": 3,\n",
      "    \"dataoffset\": 583,\n",
      "    \"filesource_id\": 0,\n",
      "    \"global_encoding\": 0,\n",
      "    \"global_encoding_base64\": \"AAA=\",\n",
      "    \"gtiff\": \"Geotiff_Information:\\n   Version: 1\\n   Key_Revision: 1.0\\n   Tagged_Information:\\n      End_Of_Tags.\\n   Keyed_Information:\\n      GTModelTypeGeoKey (Short,1): ModelTypeGeographic\\n      GTRasterTypeGeoKey (Short,1): RasterPixelIsArea\\n      GeographicTypeGeoKey (Short,1): GCS_WGS_84\\n      GeogCitationGeoKey (Ascii,7): \\\"WGS 84\\\"\\n      GeogAngularUnitsGeoKey (Short,1): Angular_Degree\\n      GeogSemiMajorAxisGeoKey (Double,1): 6378137          \\n      GeogInvFlatteningGeoKey (Double,1): 298.257223563    \\n      End_Of_Keys.\\n   End_Of_Geotiff.\\n\",\n",
      "    \"header_size\": 227,\n",
      "    \"major_version\": 1,\n",
      "    \"maxx\": -122.1389414,\n",
      "    \"maxy\": 42.94179125,\n",
      "    \"maxz\": 6960.01,\n",
      "    \"minor_version\": 2,\n",
      "    \"minx\": -122.1485215,\n",
      "    \"miny\": 42.93633246,\n",
      "    \"minz\": 6172.44,\n",
      "    \"offset_x\": 0,\n",
      "    \"offset_y\": 0,\n",
      "    \"offset_z\": 0,\n",
      "    \"point_length\": 34,\n",
      "    \"project_id\": \"00000000-0000-0000-0000-000000000000\",\n",
      "    \"scale_x\": 0.01,\n",
      "    \"scale_y\": 0.01,\n",
      "    \"scale_z\": 0.01,\n",
      "    \"software_id\": \"PDAL 2.5.3 (Releas)\",\n",
      "    \"spatialreference\": \"GEOGCS[\\\"WGS 84\\\",DATUM[\\\"WGS_1984\\\",SPHEROID[\\\"WGS 84\\\",6378137,298.257223563,AUTHORITY[\\\"EPSG\\\",\\\"7030\\\"]],AUTHORITY[\\\"EPSG\\\",\\\"6326\\\"]],PRIMEM[\\\"Greenwich\\\",0,AUTHORITY[\\\"EPSG\\\",\\\"8901\\\"]],UNIT[\\\"degree\\\",0.0174532925199433,AUTHORITY[\\\"EPSG\\\",\\\"9122\\\"]],AXIS[\\\"Latitude\\\",NORTH],AXIS[\\\"Longitude\\\",EAST],AUTHORITY[\\\"EPSG\\\",\\\"4326\\\"]]\",\n",
      "    \"srs\":\n",
      "    {\n",
      "      \"compoundwkt\": \"GEOGCS[\\\"WGS 84\\\",DATUM[\\\"WGS_1984\\\",SPHEROID[\\\"WGS 84\\\",6378137,298.257223563,AUTHORITY[\\\"EPSG\\\",\\\"7030\\\"]],AUTHORITY[\\\"EPSG\\\",\\\"6326\\\"]],PRIMEM[\\\"Greenwich\\\",0,AUTHORITY[\\\"EPSG\\\",\\\"8901\\\"]],UNIT[\\\"degree\\\",0.0174532925199433,AUTHORITY[\\\"EPSG\\\",\\\"9122\\\"]],AXIS[\\\"Latitude\\\",NORTH],AXIS[\\\"Longitude\\\",EAST],AUTHORITY[\\\"EPSG\\\",\\\"4326\\\"]]\",\n",
      "      \"horizontal\": \"GEOGCS[\\\"WGS 84\\\",DATUM[\\\"WGS_1984\\\",SPHEROID[\\\"WGS 84\\\",6378137,298.257223563,AUTHORITY[\\\"EPSG\\\",\\\"7030\\\"]],AUTHORITY[\\\"EPSG\\\",\\\"6326\\\"]],PRIMEM[\\\"Greenwich\\\",0,AUTHORITY[\\\"EPSG\\\",\\\"8901\\\"]],UNIT[\\\"degree\\\",0.0174532925199433,AUTHORITY[\\\"EPSG\\\",\\\"9122\\\"]],AXIS[\\\"Latitude\\\",NORTH],AXIS[\\\"Longitude\\\",EAST],AUTHORITY[\\\"EPSG\\\",\\\"4326\\\"]]\",\n",
      "      \"isgeocentric\": false,\n",
      "      \"isgeographic\": true,\n",
      "      \"json\": {\n",
      "  \"type\": \"GeographicCRS\",\n",
      "  \"name\": \"WGS 84\",\n",
      "  \"datum\": {\n",
      "    \"type\": \"GeodeticReferenceFrame\",\n",
      "    \"name\": \"World Geodetic System 1984\",\n",
      "    \"ellipsoid\": {\n",
      "      \"name\": \"WGS 84\",\n",
      "      \"semi_major_axis\": 6378137,\n",
      "      \"inverse_flattening\": 298.257223563\n",
      "    }\n",
      "  },\n",
      "  \"coordinate_system\": {\n",
      "    \"subtype\": \"ellipsoidal\",\n",
      "    \"axis\": [\n",
      "      {\n",
      "        \"name\": \"Geodetic latitude\",\n",
      "        \"abbreviation\": \"Lat\",\n",
      "        \"direction\": \"north\",\n",
      "        \"unit\": \"degree\"\n",
      "      },\n",
      "      {\n",
      "        \"name\": \"Geodetic longitude\",\n",
      "        \"abbreviation\": \"Lon\",\n",
      "        \"direction\": \"east\",\n",
      "        \"unit\": \"degree\"\n",
      "      }\n",
      "    ]\n",
      "  },\n",
      "  \"id\": {\n",
      "    \"authority\": \"EPSG\",\n",
      "    \"code\": 4326\n",
      "  }\n",
      "},\n",
      "      \"prettycompoundwkt\": \"GEOGCS[\\\"WGS 84\\\",\\n    DATUM[\\\"WGS_1984\\\",\\n        SPHEROID[\\\"WGS 84\\\",6378137,298.257223563,\\n            AUTHORITY[\\\"EPSG\\\",\\\"7030\\\"]],\\n        AUTHORITY[\\\"EPSG\\\",\\\"6326\\\"]],\\n    PRIMEM[\\\"Greenwich\\\",0,\\n        AUTHORITY[\\\"EPSG\\\",\\\"8901\\\"]],\\n    UNIT[\\\"degree\\\",0.0174532925199433,\\n        AUTHORITY[\\\"EPSG\\\",\\\"9122\\\"]],\\n    AXIS[\\\"Latitude\\\",NORTH],\\n    AXIS[\\\"Longitude\\\",EAST],\\n    AUTHORITY[\\\"EPSG\\\",\\\"4326\\\"]]\",\n",
      "      \"prettywkt\": \"GEOGCS[\\\"WGS 84\\\",\\n    DATUM[\\\"WGS_1984\\\",\\n        SPHEROID[\\\"WGS 84\\\",6378137,298.257223563,\\n            AUTHORITY[\\\"EPSG\\\",\\\"7030\\\"]],\\n        AUTHORITY[\\\"EPSG\\\",\\\"6326\\\"]],\\n    PRIMEM[\\\"Greenwich\\\",0,\\n        AUTHORITY[\\\"EPSG\\\",\\\"8901\\\"]],\\n    UNIT[\\\"degree\\\",0.0174532925199433,\\n        AUTHORITY[\\\"EPSG\\\",\\\"9122\\\"]],\\n    AXIS[\\\"Latitude\\\",NORTH],\\n    AXIS[\\\"Longitude\\\",EAST],\\n    AUTHORITY[\\\"EPSG\\\",\\\"4326\\\"]]\",\n",
      "      \"proj4\": \"+proj=longlat +datum=WGS84 +no_defs\",\n",
      "      \"units\":\n",
      "      {\n",
      "        \"horizontal\": \"unknown\",\n",
      "        \"vertical\": \"\"\n",
      "      },\n",
      "      \"vertical\": \"\",\n",
      "      \"wkt\": \"GEOGCS[\\\"WGS 84\\\",DATUM[\\\"WGS_1984\\\",SPHEROID[\\\"WGS 84\\\",6378137,298.257223563,AUTHORITY[\\\"EPSG\\\",\\\"7030\\\"]],AUTHORITY[\\\"EPSG\\\",\\\"6326\\\"]],PRIMEM[\\\"Greenwich\\\",0,AUTHORITY[\\\"EPSG\\\",\\\"8901\\\"]],UNIT[\\\"degree\\\",0.0174532925199433,AUTHORITY[\\\"EPSG\\\",\\\"9122\\\"]],AXIS[\\\"Latitude\\\",NORTH],AXIS[\\\"Longitude\\\",EAST],AUTHORITY[\\\"EPSG\\\",\\\"4326\\\"]]\"\n",
      "    },\n",
      "    \"system_id\": \"PDAL\",\n",
      "    \"vlr_0\":\n",
      "    {\n",
      "      \"data\": \"AQABAAAABwAABAAAAQACAAEEAAABAAEAAAgAAAEA5hABCLGHBwAAAAYIAAABAI4jCQiwhwEAAQALCLCHAQAAAA==\",\n",
      "      \"description\": \"GeoTiff GeoKeyDirectoryTag\",\n",
      "      \"record_id\": 34735,\n",
      "      \"user_id\": \"LASF_Projection\"\n",
      "    },\n",
      "    \"vlr_1\":\n",
      "    {\n",
      "      \"data\": \"iG10lh2kckAAAABAplRYQQ==\",\n",
      "      \"description\": \"GeoTiff GeoDoubleParamsTag\",\n",
      "      \"record_id\": 34736,\n",
      "      \"user_id\": \"LASF_Projection\"\n",
      "    },\n",
      "    \"vlr_2\":\n",
      "    {\n",
      "      \"data\": \"V0dTIDg0fAA=\",\n",
      "      \"description\": \"GeoTiff GeoAsciiParamsTag\",\n",
      "      \"record_id\": 34737,\n",
      "      \"user_id\": \"LASF_Projection\"\n",
      "    },\n",
      "    \"vlr_3\":\n",
      "    {\n",
      "      \"data\": \"AgAAAAMEAwAAAAAAUMMAAP////////////////////8DAAYAFAACAAcACAACAAgABgACAA==\",\n",
      "      \"description\": \"http://laszip.org\",\n",
      "      \"record_id\": 22204,\n",
      "      \"user_id\": \"laszip encoded\"\n",
      "    }\n",
      "  },\n",
      "  \"now\": \"2023-04-25T16:45:20-0600\",\n",
      "  \"pdal_version\": \"2.5.3 (git-version: Release)\",\n",
      "  \"reader\": \"readers.las\"\n",
      "}\n"
     ]
    }
   ],
   "source": [
    "pdal info --metadata OR_WizardIsland_LatLon.laz"
   ]
  },
  {
   "cell_type": "markdown",
   "id": "4680dc2b",
   "metadata": {},
   "source": [
    "## Calculating a Boundary"
   ]
  },
  {
   "cell_type": "markdown",
   "id": "6ff60607",
   "metadata": {},
   "source": [
    "Utilizing the info command, the boundary of a dataset can be obtained by using the \"--boundary\" flag.  This will output the boundary in WKT format in JSON-formatted output."
   ]
  },
  {
   "cell_type": "code",
   "execution_count": 63,
   "id": "94e6b177",
   "metadata": {
    "ExecuteTime": {
     "end_time": "2023-04-25T23:02:55.882778Z",
     "start_time": "2023-04-25T23:02:55.730130Z"
    }
   },
   "outputs": [
    {
     "name": "stdout",
     "output_type": "stream",
     "text": [
      "PDALWorkshop_bash.ipynb\n",
      "RCN_HRT_PDALWorkshop_May2023_PythonAPI.ipynb\n",
      "Workshop.md\n",
      "data\n",
      "images\n",
      "pipelines\n"
     ]
    }
   ],
   "source": [
    "ls"
   ]
  },
  {
   "cell_type": "markdown",
   "id": "56f3277e",
   "metadata": {},
   "source": [
    "Use the \"--boundary\" flag to get the boundary of data over the Siuslaw River:"
   ]
  },
  {
   "cell_type": "code",
   "execution_count": 64,
   "id": "3ce9d571",
   "metadata": {
    "ExecuteTime": {
     "end_time": "2023-04-25T23:03:10.700063Z",
     "start_time": "2023-04-25T23:03:06.675211Z"
    }
   },
   "outputs": [
    {
     "name": "stdout",
     "output_type": "stream",
     "text": [
      "{\n",
      "  \"boundary\":\n",
      "  {\n",
      "    \"area\": 5083656.235,\n",
      "    \"avg_pt_per_sq_unit\": 2.670004261,\n",
      "    \"avg_pt_spacing\": 0.9299756138,\n",
      "    \"boundary\": \"POLYGON ((871585.08 436854.9,871635.22 436898.32,872562.93 436898.32,872613.07 436854.9,872863.8 436854.9,872913.95 436898.32,873465.56 436898.32,873465.56 438852.58,873390.34 438896.0,870920.64 438874.29,870908.1 436898.32,871509.86 436898.32,871585.08 436854.9))\",\n",
      "    \"boundary_json\": { \"type\": \"Polygon\", \"coordinates\": [ [ [ 871585.07628024998121, 436854.896951399976388 ], [ 871635.222414609976113, 436898.324777669971809 ], [ 872562.925900229951367, 436898.324777669971809 ], [ 872613.07203458994627, 436854.896951399976388 ], [ 872863.802706380025484, 436854.896951399976388 ], [ 872913.948840740020387, 436898.324777669971809 ], [ 873465.556318680057302, 436898.324777669971809 ], [ 873465.556318680057302, 438852.57695966999745 ], [ 873390.33711714996025, 438896.004785929981153 ], [ 870920.64000000001397, 438874.290872799989302 ], [ 870908.103466409957036, 436898.324777669971809 ], [ 871509.857078709988855, 436898.324777669971809 ], [ 871585.07628024998121, 436854.896951399976388 ] ] ] },\n",
      "    \"density\": 1.156263667,\n",
      "    \"edge_length\": 0,\n",
      "    \"estimated_edge\": 43.42782627,\n",
      "    \"hex_offsets\": \"MULTIPOINT (0 0, -12.5365 21.7139, 0 43.4278, 25.0731 43.4278, 37.6096 21.7139, 25.0731 0)\",\n",
      "    \"sample_size\": 5000,\n",
      "    \"threshold\": 15\n",
      "  },\n",
      "  \"file_size\": 27167488,\n",
      "  \"filename\": \"./data/OR_WizardIsland.laz\",\n",
      "  \"now\": \"2023-04-25T17:03:10-0600\",\n",
      "  \"pdal_version\": \"2.5.3 (git-version: Release)\",\n",
      "  \"reader\": \"readers.las\"\n",
      "}\n"
     ]
    }
   ],
   "source": [
    "pdal info ./data/Siuslaw.laz --boundary "
   ]
  },
  {
   "cell_type": "markdown",
   "id": "69633233",
   "metadata": {},
   "source": [
    "However, to get a boundary in vector format to visualize in a GIS or Google Earth requires some additional steps.  The PDAL command, [tindex](https://pdal.io/en/2.5.3/apps/tindex.html#tindex-command) is used to create a boundary that utilizes the [hexbin filter](https://pdal.io/en/2.5.3/stages/filters.hexbin.html#filters-hexbin)"
   ]
  },
  {
   "cell_type": "markdown",
   "id": "f5035769",
   "metadata": {},
   "source": [
    "To get a basic boundary:"
   ]
  },
  {
   "cell_type": "code",
   "execution_count": 65,
   "id": "5346c22e",
   "metadata": {
    "ExecuteTime": {
     "end_time": "2023-04-26T16:39:41.907261Z",
     "start_time": "2023-04-26T16:39:35.389589Z"
    },
    "scrolled": true
   },
   "outputs": [
    {
     "name": "stdout",
     "output_type": "stream",
     "text": [
      "Warning 6: Field modified create as date field, though DateTime requested.\n",
      "Warning 6: Field created create as date field, though DateTime requested.\n",
      "Warning 1: Value 'PROJCS[\"NAD83 / Oregon GIC Lambert (ft)\",GEOGCS[\"NAD83\",DATUM[\"North_American_Datum_1983\",SPHEROID[\"GRS 1980\",6378137,298.257222101,AUTHORITY[\"EPSG\",\"7019\"]],AUTHORITY[\"EPSG\",\"6269\"]],PRIMEM[\"Greenwich\",0,AUTHORITY[\"EPSG\",\"8901\"]],UNIT[\"degree\",0.0174532925199433,AUTHORITY[\"EPSG\",\"9122\"]],AUTHORITY[\"EPSG\",\"4269\"]],PROJECTION[\"Lambert_Conformal_Conic_2SP\"],PARAMETER[\"latitude_of_origin\",41.75],PARAMETER[\"central_meridian\",-120.5],PARAMETER[\"standard_parallel_1\",43],PARAMETER[\"standard_parallel_2\",45.5],PARAMETER[\"false_easting\",1312335.958],PARAMETER[\"false_northing\",0],UNIT[\"foot\",0.3048,AUTHORITY[\"EPSG\",\"9002\"]],AXIS[\"Easting\",EAST],AXIS[\"Northing\",NORTH],AUTHORITY[\"EPSG\",\"2992\"]]' of field srs has been truncated to 254 characters.  This warning will not be emitted any more for that layer.\n"
     ]
    }
   ],
   "source": [
    "pdal tindex create --tindex ./data/Siuslaw_bounds.shp --filespec ./data/Siuslaw.laz -f \"ESRI Shapefile\""
   ]
  },
  {
   "cell_type": "code",
   "execution_count": 73,
   "id": "86aff88d",
   "metadata": {
    "ExecuteTime": {
     "end_time": "2023-04-26T16:59:30.222149Z",
     "start_time": "2023-04-26T16:59:30.112125Z"
    }
   },
   "outputs": [],
   "source": [
    "cd $CWD"
   ]
  },
  {
   "cell_type": "markdown",
   "id": "f974b7a4",
   "metadata": {},
   "source": [
    "Load the shapefile into a GIS to see its extent:\n",
    "![Siuslaw Bounds](./images/SiuslawRiverBounds.jpeg)"
   ]
  },
  {
   "cell_type": "markdown",
   "id": "c3c58278",
   "metadata": {
    "ExecuteTime": {
     "end_time": "2023-04-26T16:48:36.923464Z",
     "start_time": "2023-04-26T16:48:36.811649Z"
    }
   },
   "source": [
    "For rough estimations of boundaries, this is usually sufficient. To obtain a more precise fit of the data alter some of the parameters in the [filters.hexbin](https://pdal.io/en/2.5.3/stages/filters.hexbin.html#filters-hexbin) command.  The \"edge_size\" parameter is particularly useful for this scenario as it controls the size of the hexagon boundaries used to estimate whether a section of the dataset should be considered. Finding an appropriate value for edge_size can be an iterative process.  For example, try using a vlue of \"50\" units (for this dataset, the units are feet)."
   ]
  },
  {
   "cell_type": "code",
   "execution_count": 75,
   "id": "becb170b",
   "metadata": {
    "ExecuteTime": {
     "end_time": "2023-04-26T18:18:38.400102Z",
     "start_time": "2023-04-26T18:18:31.626196Z"
    }
   },
   "outputs": [
    {
     "name": "stdout",
     "output_type": "stream",
     "text": [
      "Warning 6: Field modified create as date field, though DateTime requested.\n",
      "Warning 6: Field created create as date field, though DateTime requested.\n",
      "Warning 1: Value 'PROJCS[\"NAD83 / Oregon GIC Lambert (ft)\",GEOGCS[\"NAD83\",DATUM[\"North_American_Datum_1983\",SPHEROID[\"GRS 1980\",6378137,298.257222101,AUTHORITY[\"EPSG\",\"7019\"]],AUTHORITY[\"EPSG\",\"6269\"]],PRIMEM[\"Greenwich\",0,AUTHORITY[\"EPSG\",\"8901\"]],UNIT[\"degree\",0.0174532925199433,AUTHORITY[\"EPSG\",\"9122\"]],AUTHORITY[\"EPSG\",\"4269\"]],PROJECTION[\"Lambert_Conformal_Conic_2SP\"],PARAMETER[\"latitude_of_origin\",41.75],PARAMETER[\"central_meridian\",-120.5],PARAMETER[\"standard_parallel_1\",43],PARAMETER[\"standard_parallel_2\",45.5],PARAMETER[\"false_easting\",1312335.958],PARAMETER[\"false_northing\",0],UNIT[\"foot\",0.3048,AUTHORITY[\"EPSG\",\"9002\"]],AXIS[\"Easting\",EAST],AXIS[\"Northing\",NORTH],AUTHORITY[\"EPSG\",\"2992\"]]' of field srs has been truncated to 254 characters.  This warning will not be emitted any more for that layer.\n"
     ]
    }
   ],
   "source": [
    "pdal tindex create --tindex ./data/Siuslaw_bounds50.shp --filters.hexbin.edge_size=50 --filespec ./data/Siuslaw.laz -f \"ESRI Shapefile\""
   ]
  },
  {
   "cell_type": "code",
   "execution_count": 76,
   "id": "365ea2da",
   "metadata": {
    "ExecuteTime": {
     "end_time": "2023-04-26T18:21:26.467676Z",
     "start_time": "2023-04-26T18:21:26.354867Z"
    }
   },
   "outputs": [],
   "source": [
    "cd $CWD"
   ]
  },
  {
   "cell_type": "markdown",
   "id": "e6d18658",
   "metadata": {},
   "source": [
    "Load this version of the boundary into a GIS:\n",
    "![Siuslaw Bounds_Fit](./images/SiuslawRiverBounds_Fit.png)"
   ]
  },
  {
   "cell_type": "markdown",
   "id": "641e6fa5",
   "metadata": {},
   "source": [
    "Note how this is a much better fit to the data, and shows regions where there is no data (over the water). However, use caution with the edge_size parameter as setting it too low might not capture an appropriate amount of data, and mis-represent the data coverage."
   ]
  },
  {
   "cell_type": "markdown",
   "id": "16dc604f",
   "metadata": {},
   "source": [
    "## Filtering Noise"
   ]
  },
  {
   "cell_type": "code",
   "execution_count": 81,
   "id": "f2e61d35",
   "metadata": {
    "ExecuteTime": {
     "end_time": "2023-04-26T20:16:20.060780Z",
     "start_time": "2023-04-26T20:15:59.013543Z"
    }
   },
   "outputs": [],
   "source": [
    "pdal pipeline ./pipelines/NoiseFilter.json"
   ]
  },
  {
   "cell_type": "code",
   "execution_count": 82,
   "id": "0152a576",
   "metadata": {
    "ExecuteTime": {
     "end_time": "2023-04-26T20:16:59.580482Z",
     "start_time": "2023-04-26T20:16:56.880382Z"
    }
   },
   "outputs": [
    {
     "name": "stdout",
     "output_type": "stream",
     "text": [
      "{\n",
      "  \"file_size\": 18339834,\n",
      "  \"filename\": \"./data/FoxIsland_Clean.laz\",\n",
      "  \"now\": \"2023-04-26T14:16:59-0600\",\n",
      "  \"pdal_version\": \"2.5.3 (git-version: Release)\",\n",
      "  \"reader\": \"readers.las\",\n",
      "  \"stats\":\n",
      "  {\n",
      "    \"statistic\":\n",
      "    [\n",
      "      {\n",
      "        \"average\": 2.541639167,\n",
      "        \"count\": 3100062,\n",
      "        \"counts\":\n",
      "        [\n",
      "          \"1.000000/2522040\",\n",
      "          \"2.000000/474743\",\n",
      "          \"7.000000/76401\",\n",
      "          \"135.000000/4662\",\n",
      "          \"146.000000/22216\"\n",
      "        ],\n",
      "        \"maximum\": 146,\n",
      "        \"minimum\": 1,\n",
      "        \"name\": \"Classification\",\n",
      "        \"position\": 0,\n",
      "        \"stddev\": 13.27924561,\n",
      "        \"variance\": 176.3383638\n",
      "      }\n",
      "    ]\n",
      "  }\n",
      "}\n"
     ]
    }
   ],
   "source": [
    "pdal info ./data/FoxIsland_Clean.laz --stats --filters.stats.dimensions=Classification  --filters.stats.count=Classification"
   ]
  },
  {
   "cell_type": "code",
   "execution_count": null,
   "id": "51c6d1d9",
   "metadata": {},
   "outputs": [],
   "source": []
  }
 ],
 "metadata": {
  "kernelspec": {
   "display_name": "Bash",
   "language": "bash",
   "name": "bash"
  },
  "language_info": {
   "codemirror_mode": "shell",
   "file_extension": ".sh",
   "mimetype": "text/x-sh",
   "name": "bash"
  }
 },
 "nbformat": 4,
 "nbformat_minor": 5
}
