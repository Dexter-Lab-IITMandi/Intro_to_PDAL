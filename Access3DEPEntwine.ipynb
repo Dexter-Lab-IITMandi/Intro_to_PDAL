{
 "cells": [
  {
   "cell_type": "markdown",
   "id": "40230e66",
   "metadata": {},
   "source": [
    "# USGS 3DEP program\n",
    "The U.S. Geological Survey’s (USGS) 3D Elevation Program (3DEP) is an ambitious effort to complete acquisition of nationwide lidar (IfSAR in AK) by 2023 to provide the first-ever national baseline of consistent high-resolution elevation data – both bare earth and 3D point clouds – collected in a timeframe of less than a decade.  USGS migrated these data into the cloud, led by Hobu, Inc. and the U.S Army Corps of Engineers (USACE) Cold Regions Research and Engineering Laboratory (CRREL) in collaboration with AWS Public Dataset Program.  As part of this effort the 3DEP data were standardized and written out in the entwine format.\n",
    "\n"
   ]
  },
  {
   "cell_type": "markdown",
   "id": "90e0c1fd",
   "metadata": {},
   "source": [
    "# Entwine\n",
    "\n",
    "- [Entwine](https://entwine.io/en/latest/index.html) is open source software from [HOBU, Inc.](https://hobu.co/) that organizes massive point cloud collections into streamable data services.  Entwine builds are completely lossless, so no points, metadata, or precision will be discarded even for terabyte-scale datasets.  The output format produced by entwine is the [Entwine Point Tile (EPT)](https://entwine.io/en/latest/entwine-point-tile.html), which is a simple and flexible octree-based storage format for point cloud data.  This format enables better performance when dealing with web map applications, or cloud computing with large point cloud datasets."
   ]
  },
  {
   "cell_type": "markdown",
   "id": "8c941729",
   "metadata": {
    "ExecuteTime": {
     "end_time": "2023-05-01T19:42:45.398281Z",
     "start_time": "2023-05-01T19:42:44.984849Z"
    }
   },
   "source": [
    "# EPT Data Accesss\n",
    "\n",
    "- PDAL provides an [entwine reader](https://pdal.io/en/2.5.3/stages/readers.ept.html#readers-ept) that can easily read the USGS 3DEP data in EPT format. With a simple pipeline, it is fairly straightforward to subset the data from the AWS entwine bucket for a given dataset.  \n",
    "\n",
    "- For example, to grab USGS 3DEP lidar data of the Statue of Liberty:"
   ]
  },
  {
   "cell_type": "code",
   "execution_count": 2,
   "id": "6dad2a0b",
   "metadata": {
    "ExecuteTime": {
     "end_time": "2023-05-01T19:43:38.673896Z",
     "start_time": "2023-05-01T19:43:38.524788Z"
    }
   },
   "outputs": [
    {
     "name": "stdout",
     "output_type": "stream",
     "text": [
      "AddGeoid.json\t\tExtractGround.json\tStatueLiberty.json\n",
      "Clip_ex.json\t\tNoiseFilter.json\tStatueLiberty_4326.json\n",
      "CreateDSM.json\t\tPart2_Exercise.json\tStatueLiberty_Alt.json\n",
      "CreateDTM.json\t\tPart4_Exercise.json\tTileLAZ.json\n",
      "CreateGround.json\tReproject_Ex.json\n"
     ]
    }
   ],
   "source": [
    "ls ./pipelines"
   ]
  },
  {
   "cell_type": "code",
   "execution_count": 3,
   "id": "d25e1479",
   "metadata": {
    "ExecuteTime": {
     "end_time": "2023-05-01T19:46:26.660069Z",
     "start_time": "2023-05-01T19:43:56.002872Z"
    }
   },
   "outputs": [
    {
     "name": "stdout",
     "output_type": "stream",
     "text": [
      "{[?1h\u001b=\n",
      "  \"pipeline\": [\n",
      "        {\n",
      "          \"type\": \"readers.ept\",\n",
      "          \"filename\": \"https://s3-us-west-2.amazonaws.com/usgs-lidar-public/NY_NewYorkCity/ept.json\",\n",
      "          \"bounds\": \"([-8242666.7146411305, -8242531.114082908], [4966542.613156153, 4966683.155298185])\"\n",
      "        },\n",
      "      \"./data/StatueLiberty.laz\"\n",
      "  ]\n",
      "}\n",
      "\u001b[K\u001b[?1l\u001b>lines/StatueLiberty.json (END)\u001b[27m\u001b[K\u0007\n"
     ]
    }
   ],
   "source": [
    "more ./pipelines/StatueLiberty.json"
   ]
  },
  {
   "cell_type": "code",
   "execution_count": 5,
   "id": "4b91f5bf",
   "metadata": {
    "ExecuteTime": {
     "end_time": "2023-05-01T19:47:17.850842Z",
     "start_time": "2023-05-01T19:47:13.275654Z"
    }
   },
   "outputs": [],
   "source": [
    "pdal pipeline ./pipelines/StatueLiberty.json"
   ]
  },
  {
   "cell_type": "markdown",
   "id": "c14218bf",
   "metadata": {},
   "source": [
    "# Integrating 3DEP data into workflows\n",
    "\n",
    "Based on the basic PDAL tutorials, we can apply additional processing stages to any of the datasets from the USGS 3DEP collection\n",
    "\n",
    "The following pipeline does the following:\n",
    "- Extract data over Devil's Tower Wyoming from the AWS enwtine bucket\n",
    "- Reproject the data from the default Web Mercator to UTM Zone 13N\n",
    "- Filter the data to just use ground-classified points\n",
    "- Write out a ground-classified LAZ file\n",
    "- Additionally write out a 2m DTM."
   ]
  },
  {
   "cell_type": "markdown",
   "id": "65094088",
   "metadata": {},
   "source": [
    "```\n",
    "{\n",
    "  \"pipeline\": [\n",
    "      {\n",
    "          \"type\": \"readers.ept\",\n",
    "          \"filename\": \"https://s3-us-west-2.amazonaws.com/usgs-lidar-public/WY_FEMA_East_B3_2019/ept.json\",\n",
    "          \"bounds\": \"([-11657141., -11656509.],[5556970.,5557606. ])\"\n",
    "      },\n",
    "      {\n",
    "          \"type\":\"filters.reprojection\",\n",
    "          \"in_srs\":\"EPSG:3857+5703\",\n",
    "          \"out_srs\":\"EPSG:32613+5703\"\n",
    "      },\n",
    "      {\n",
    "          \"type\": \"filters.range\",\n",
    "          \"limits\": \"Classification[2:2]\"\n",
    "      },\n",
    "      {\n",
    "          \"type\" : \"writers.las\",\n",
    "          \"filename\": \"./data/DevilsTower_Ground.laz\",\n",
    "          \"compression\": \"laszip\",\n",
    "          \"a_srs\": \"EPSG:32613+5703\"\n",
    "      },\n",
    "      {\n",
    "          \"filename\":\"./data/DevilsTower_Ground.tif\",\n",
    "          \"gdaldriver\":\"GTiff\",\n",
    "          \"output_type\":\"min\",\n",
    "          \"resolution\":\"2.0\",\n",
    "          \"type\": \"writers.gdal\"\n",
    "      }\t      \n",
    "  ]\n",
    "}\n",
    "```"
   ]
  },
  {
   "cell_type": "code",
   "execution_count": 9,
   "id": "0c4c2219",
   "metadata": {
    "ExecuteTime": {
     "end_time": "2023-05-02T23:06:19.177838Z",
     "start_time": "2023-05-02T23:06:13.460632Z"
    }
   },
   "outputs": [],
   "source": [
    "pdal pipeline ./pipelines/DevilsTower.json"
   ]
  },
  {
   "cell_type": "code",
   "execution_count": 7,
   "id": "53859166",
   "metadata": {
    "ExecuteTime": {
     "end_time": "2023-05-01T20:19:18.268306Z",
     "start_time": "2023-05-01T20:19:17.613407Z"
    }
   },
   "outputs": [
    {
     "name": "stdout",
     "output_type": "stream",
     "text": [
      "Driver: GTiff/GeoTIFF\n",
      "Files: ./data/DevilsTower_Ground.tif\n",
      "Size is 227, 228\n",
      "Coordinate System is:\n",
      "COMPOUNDCRS[\"WGS 84 / UTM zone 13N + NAVD88 height\",\n",
      "    PROJCRS[\"WGS 84 / UTM zone 13N\",\n",
      "        BASEGEOGCRS[\"WGS 84\",\n",
      "            DATUM[\"World Geodetic System 1984\",\n",
      "                ELLIPSOID[\"WGS 84\",6378137,298.257223563,\n",
      "                    LENGTHUNIT[\"metre\",1]]],\n",
      "            PRIMEM[\"Greenwich\",0,\n",
      "                ANGLEUNIT[\"degree\",0.0174532925199433]],\n",
      "            ID[\"EPSG\",4326]],\n",
      "        CONVERSION[\"UTM zone 13N\",\n",
      "            METHOD[\"Transverse Mercator\",\n",
      "                ID[\"EPSG\",9807]],\n",
      "            PARAMETER[\"Latitude of natural origin\",0,\n",
      "                ANGLEUNIT[\"degree\",0.0174532925199433],\n",
      "                ID[\"EPSG\",8801]],\n",
      "            PARAMETER[\"Longitude of natural origin\",-105,\n",
      "                ANGLEUNIT[\"degree\",0.0174532925199433],\n",
      "                ID[\"EPSG\",8802]],\n",
      "            PARAMETER[\"Scale factor at natural origin\",0.9996,\n",
      "                SCALEUNIT[\"unity\",1],\n",
      "                ID[\"EPSG\",8805]],\n",
      "            PARAMETER[\"False easting\",500000,\n",
      "                LENGTHUNIT[\"metre\",1],\n",
      "                ID[\"EPSG\",8806]],\n",
      "            PARAMETER[\"False northing\",0,\n",
      "                LENGTHUNIT[\"metre\",1],\n",
      "                ID[\"EPSG\",8807]]],\n",
      "        CS[Cartesian,2],\n",
      "            AXIS[\"easting\",east,\n",
      "                ORDER[1],\n",
      "                LENGTHUNIT[\"metre\",1]],\n",
      "            AXIS[\"northing\",north,\n",
      "                ORDER[2],\n",
      "                LENGTHUNIT[\"metre\",1]],\n",
      "        ID[\"EPSG\",32613]],\n",
      "    VERTCRS[\"NAVD88 height\",\n",
      "        VDATUM[\"North American Vertical Datum 1988\"],\n",
      "        CS[vertical,1],\n",
      "            AXIS[\"gravity-related height\",up,\n",
      "                LENGTHUNIT[\"metre\",1]],\n",
      "        ID[\"EPSG\",5703]]]\n",
      "Data axis to CRS axis mapping: 1,2,3\n",
      "Origin = (522392.224988897447474,4937732.267722859047353)\n",
      "Pixel Size = (2.000000000000000,-2.000000000000000)\n",
      "Metadata:\n",
      "  AREA_OR_POINT=Area\n",
      "Image Structure Metadata:\n",
      "  INTERLEAVE=BAND\n",
      "Corner Coordinates:\n",
      "Upper Left  (  522392.225, 4937732.268) (104d43' 4.38\"W, 44d35'33.31\"N)\n",
      "Lower Left  (  522392.225, 4937276.268) (104d43' 4.45\"W, 44d35'18.53\"N)\n",
      "Upper Right (  522846.225, 4937732.268) (104d42'43.78\"W, 44d35'33.26\"N)\n",
      "Lower Right (  522846.225, 4937276.268) (104d42'43.86\"W, 44d35'18.48\"N)\n",
      "Center      (  522619.225, 4937504.268) (104d42'54.12\"W, 44d35'25.90\"N)\n",
      "Band 1 Block=227x4 Type=Float64, ColorInterp=Gray\n",
      "  Description = min\n",
      "  NoData Value=-9999\n",
      "  Unit Type: metre\n"
     ]
    }
   ],
   "source": [
    "gdalinfo ./data/DevilsTower_Ground.tif"
   ]
  },
  {
   "cell_type": "code",
   "execution_count": 8,
   "id": "3a2ca46c",
   "metadata": {
    "ExecuteTime": {
     "end_time": "2023-05-01T20:19:36.131461Z",
     "start_time": "2023-05-01T20:19:35.480879Z"
    }
   },
   "outputs": [
    {
     "name": "stdout",
     "output_type": "stream",
     "text": [
      "{\n",
      "  \"file_size\": 2324613,\n",
      "  \"filename\": \"./data/DevilsTower_Ground.laz\",\n",
      "  \"metadata\":\n",
      "  {\n",
      "    \"comp_spatialreference\": \"COMPD_CS[\\\"WGS 84 / UTM zone 13N + NAVD88 height\\\",PROJCS[\\\"WGS 84 / UTM zone 13N\\\",GEOGCS[\\\"WGS 84\\\",DATUM[\\\"WGS_1984\\\",SPHEROID[\\\"WGS 84\\\",6378137,298.257223563,AUTHORITY[\\\"EPSG\\\",\\\"7030\\\"]],AUTHORITY[\\\"EPSG\\\",\\\"6326\\\"]],PRIMEM[\\\"Greenwich\\\",0,AUTHORITY[\\\"EPSG\\\",\\\"8901\\\"]],UNIT[\\\"degree\\\",0.0174532925199433,AUTHORITY[\\\"EPSG\\\",\\\"9122\\\"]],AUTHORITY[\\\"EPSG\\\",\\\"4326\\\"]],PROJECTION[\\\"Transverse_Mercator\\\"],PARAMETER[\\\"latitude_of_origin\\\",0],PARAMETER[\\\"central_meridian\\\",-105],PARAMETER[\\\"scale_factor\\\",0.9996],PARAMETER[\\\"false_easting\\\",500000],PARAMETER[\\\"false_northing\\\",0],UNIT[\\\"metre\\\",1,AUTHORITY[\\\"EPSG\\\",\\\"9001\\\"]],AXIS[\\\"Easting\\\",EAST],AXIS[\\\"Northing\\\",NORTH],AUTHORITY[\\\"EPSG\\\",\\\"32613\\\"]],VERT_CS[\\\"NAVD88 height\\\",VERT_DATUM[\\\"North American Vertical Datum 1988\\\",2005,AUTHORITY[\\\"EPSG\\\",\\\"5103\\\"]],UNIT[\\\"metre\\\",1,AUTHORITY[\\\"EPSG\\\",\\\"9001\\\"]],AXIS[\\\"Gravity-related height\\\",UP],AUTHORITY[\\\"EPSG\\\",\\\"5703\\\"]]]\",\n",
      "    \"compressed\": true,\n",
      "    \"copc\": false,\n",
      "    \"count\": 378483,\n",
      "    \"creation_doy\": 0,\n",
      "    \"creation_year\": 2023,\n",
      "    \"dataformat_id\": 3,\n",
      "    \"dataoffset\": 597,\n",
      "    \"filesource_id\": 0,\n",
      "    \"global_encoding\": 0,\n",
      "    \"global_encoding_base64\": \"AAA=\",\n",
      "    \"gtiff\": \"Geotiff_Information:\\n   Version: 1\\n   Key_Revision: 1.0\\n   Tagged_Information:\\n      End_Of_Tags.\\n   Keyed_Information:\\n      GTModelTypeGeoKey (Short,1): ModelTypeProjected\\n      GTRasterTypeGeoKey (Short,1): RasterPixelIsArea\\n      GTCitationGeoKey (Ascii,38): \\\"WGS 84 / UTM zone 13N + NAVD88 height\\\"\\n      GeogCitationGeoKey (Ascii,7): \\\"WGS 84\\\"\\n      GeogAngularUnitsGeoKey (Short,1): Angular_Degree\\n      ProjectedCSTypeGeoKey (Short,1): PCS_WGS84_UTM_zone_13N\\n      ProjLinearUnitsGeoKey (Short,1): Linear_Meter\\n      VerticalCSTypeGeoKey (Short,1): Code-5703 (NAVD88 height)\\n      VerticalCitationGeoKey (Ascii,14): \\\"NAVD88 height\\\"\\n      VerticalDatumGeoKey (Short,1): Code-5103 (North American Vertical Datum 1988)\\n      VerticalUnitsGeoKey (Short,1): Linear_Meter\\n      End_Of_Keys.\\n   End_Of_Geotiff.\\n\",\n",
      "    \"header_size\": 227,\n",
      "    \"major_version\": 1,\n",
      "    \"maxx\": 522844.6179,\n",
      "    \"maxy\": 4937731.636,\n",
      "    \"maxz\": 1558.25,\n",
      "    \"minor_version\": 2,\n",
      "    \"minx\": 522392.5846,\n",
      "    \"miny\": 4937278.221,\n",
      "    \"minz\": 1297.51,\n",
      "    \"offset_x\": 0,\n",
      "    \"offset_y\": 0,\n",
      "    \"offset_z\": 0,\n",
      "    \"point_length\": 34,\n",
      "    \"project_id\": \"00000000-0000-0000-0000-000000000000\",\n",
      "    \"scale_x\": 0.01,\n",
      "    \"scale_y\": 0.01,\n",
      "    \"scale_z\": 0.01,\n",
      "    \"software_id\": \"PDAL 2.5.3 (Releas)\",\n",
      "    \"spatialreference\": \"COMPD_CS[\\\"WGS 84 / UTM zone 13N + NAVD88 height\\\",PROJCS[\\\"WGS 84 / UTM zone 13N\\\",GEOGCS[\\\"WGS 84\\\",DATUM[\\\"WGS_1984\\\",SPHEROID[\\\"WGS 84\\\",6378137,298.257223563,AUTHORITY[\\\"EPSG\\\",\\\"7030\\\"]],AUTHORITY[\\\"EPSG\\\",\\\"6326\\\"]],PRIMEM[\\\"Greenwich\\\",0,AUTHORITY[\\\"EPSG\\\",\\\"8901\\\"]],UNIT[\\\"degree\\\",0.0174532925199433,AUTHORITY[\\\"EPSG\\\",\\\"9122\\\"]],AUTHORITY[\\\"EPSG\\\",\\\"4326\\\"]],PROJECTION[\\\"Transverse_Mercator\\\"],PARAMETER[\\\"latitude_of_origin\\\",0],PARAMETER[\\\"central_meridian\\\",-105],PARAMETER[\\\"scale_factor\\\",0.9996],PARAMETER[\\\"false_easting\\\",500000],PARAMETER[\\\"false_northing\\\",0],UNIT[\\\"metre\\\",1,AUTHORITY[\\\"EPSG\\\",\\\"9001\\\"]],AXIS[\\\"Easting\\\",EAST],AXIS[\\\"Northing\\\",NORTH],AUTHORITY[\\\"EPSG\\\",\\\"32613\\\"]],VERT_CS[\\\"NAVD88 height\\\",VERT_DATUM[\\\"North American Vertical Datum 1988\\\",2005,AUTHORITY[\\\"EPSG\\\",\\\"5103\\\"]],UNIT[\\\"metre\\\",1,AUTHORITY[\\\"EPSG\\\",\\\"9001\\\"]],AXIS[\\\"Gravity-related height\\\",UP],AUTHORITY[\\\"EPSG\\\",\\\"5703\\\"]]]\",\n",
      "    \"srs\":\n",
      "    {\n",
      "      \"compoundwkt\": \"COMPD_CS[\\\"WGS 84 / UTM zone 13N + NAVD88 height\\\",PROJCS[\\\"WGS 84 / UTM zone 13N\\\",GEOGCS[\\\"WGS 84\\\",DATUM[\\\"WGS_1984\\\",SPHEROID[\\\"WGS 84\\\",6378137,298.257223563,AUTHORITY[\\\"EPSG\\\",\\\"7030\\\"]],AUTHORITY[\\\"EPSG\\\",\\\"6326\\\"]],PRIMEM[\\\"Greenwich\\\",0,AUTHORITY[\\\"EPSG\\\",\\\"8901\\\"]],UNIT[\\\"degree\\\",0.0174532925199433,AUTHORITY[\\\"EPSG\\\",\\\"9122\\\"]],AUTHORITY[\\\"EPSG\\\",\\\"4326\\\"]],PROJECTION[\\\"Transverse_Mercator\\\"],PARAMETER[\\\"latitude_of_origin\\\",0],PARAMETER[\\\"central_meridian\\\",-105],PARAMETER[\\\"scale_factor\\\",0.9996],PARAMETER[\\\"false_easting\\\",500000],PARAMETER[\\\"false_northing\\\",0],UNIT[\\\"metre\\\",1,AUTHORITY[\\\"EPSG\\\",\\\"9001\\\"]],AXIS[\\\"Easting\\\",EAST],AXIS[\\\"Northing\\\",NORTH],AUTHORITY[\\\"EPSG\\\",\\\"32613\\\"]],VERT_CS[\\\"NAVD88 height\\\",VERT_DATUM[\\\"North American Vertical Datum 1988\\\",2005,AUTHORITY[\\\"EPSG\\\",\\\"5103\\\"]],UNIT[\\\"metre\\\",1,AUTHORITY[\\\"EPSG\\\",\\\"9001\\\"]],AXIS[\\\"Gravity-related height\\\",UP],AUTHORITY[\\\"EPSG\\\",\\\"5703\\\"]]]\",\n",
      "      \"horizontal\": \"PROJCS[\\\"WGS 84 / UTM zone 13N\\\",GEOGCS[\\\"WGS 84\\\",DATUM[\\\"WGS_1984\\\",SPHEROID[\\\"WGS 84\\\",6378137,298.257223563,AUTHORITY[\\\"EPSG\\\",\\\"7030\\\"]],AUTHORITY[\\\"EPSG\\\",\\\"6326\\\"]],PRIMEM[\\\"Greenwich\\\",0,AUTHORITY[\\\"EPSG\\\",\\\"8901\\\"]],UNIT[\\\"degree\\\",0.0174532925199433,AUTHORITY[\\\"EPSG\\\",\\\"9122\\\"]],AUTHORITY[\\\"EPSG\\\",\\\"4326\\\"]],PROJECTION[\\\"Transverse_Mercator\\\"],PARAMETER[\\\"latitude_of_origin\\\",0],PARAMETER[\\\"central_meridian\\\",-105],PARAMETER[\\\"scale_factor\\\",0.9996],PARAMETER[\\\"false_easting\\\",500000],PARAMETER[\\\"false_northing\\\",0],UNIT[\\\"metre\\\",1,AUTHORITY[\\\"EPSG\\\",\\\"9001\\\"]],AXIS[\\\"Easting\\\",EAST],AXIS[\\\"Northing\\\",NORTH],AUTHORITY[\\\"EPSG\\\",\\\"32613\\\"]]\",\n",
      "      \"isgeocentric\": false,\n",
      "      \"isgeographic\": false,\n",
      "      \"json\": {\n",
      "  \"type\": \"CompoundCRS\",\n",
      "  \"name\": \"WGS 84 / UTM zone 13N + NAVD88 height\",\n",
      "  \"components\": [\n",
      "    {\n",
      "      \"type\": \"ProjectedCRS\",\n",
      "      \"name\": \"WGS 84 / UTM zone 13N\",\n",
      "      \"base_crs\": {\n",
      "        \"name\": \"WGS 84\",\n",
      "        \"datum\": {\n",
      "          \"type\": \"GeodeticReferenceFrame\",\n",
      "          \"name\": \"World Geodetic System 1984\",\n",
      "          \"ellipsoid\": {\n",
      "            \"name\": \"WGS 84\",\n",
      "            \"semi_major_axis\": 6378137,\n",
      "            \"inverse_flattening\": 298.257223563\n",
      "          }\n",
      "        },\n",
      "        \"coordinate_system\": {\n",
      "          \"subtype\": \"ellipsoidal\",\n",
      "          \"axis\": [\n",
      "            {\n",
      "              \"name\": \"Geodetic latitude\",\n",
      "              \"abbreviation\": \"Lat\",\n",
      "              \"direction\": \"north\",\n",
      "              \"unit\": \"degree\"\n",
      "            },\n",
      "            {\n",
      "              \"name\": \"Geodetic longitude\",\n",
      "              \"abbreviation\": \"Lon\",\n",
      "              \"direction\": \"east\",\n",
      "              \"unit\": \"degree\"\n",
      "            }\n",
      "          ]\n",
      "        },\n",
      "        \"id\": {\n",
      "          \"authority\": \"EPSG\",\n",
      "          \"code\": 4326\n",
      "        }\n",
      "      },\n",
      "      \"conversion\": {\n",
      "        \"name\": \"UTM zone 13N\",\n",
      "        \"method\": {\n",
      "          \"name\": \"Transverse Mercator\",\n",
      "          \"id\": {\n",
      "            \"authority\": \"EPSG\",\n",
      "            \"code\": 9807\n",
      "          }\n",
      "        },\n",
      "        \"parameters\": [\n",
      "          {\n",
      "            \"name\": \"Latitude of natural origin\",\n",
      "            \"value\": 0,\n",
      "            \"unit\": \"degree\",\n",
      "            \"id\": {\n",
      "              \"authority\": \"EPSG\",\n",
      "              \"code\": 8801\n",
      "            }\n",
      "          },\n",
      "          {\n",
      "            \"name\": \"Longitude of natural origin\",\n",
      "            \"value\": -105,\n",
      "            \"unit\": \"degree\",\n",
      "            \"id\": {\n",
      "              \"authority\": \"EPSG\",\n",
      "              \"code\": 8802\n",
      "            }\n",
      "          },\n",
      "          {\n",
      "            \"name\": \"Scale factor at natural origin\",\n",
      "            \"value\": 0.9996,\n",
      "            \"unit\": \"unity\",\n",
      "            \"id\": {\n",
      "              \"authority\": \"EPSG\",\n",
      "              \"code\": 8805\n",
      "            }\n",
      "          },\n",
      "          {\n",
      "            \"name\": \"False easting\",\n",
      "            \"value\": 500000,\n",
      "            \"unit\": \"metre\",\n",
      "            \"id\": {\n",
      "              \"authority\": \"EPSG\",\n",
      "              \"code\": 8806\n",
      "            }\n",
      "          },\n",
      "          {\n",
      "            \"name\": \"False northing\",\n",
      "            \"value\": 0,\n",
      "            \"unit\": \"metre\",\n",
      "            \"id\": {\n",
      "              \"authority\": \"EPSG\",\n",
      "              \"code\": 8807\n",
      "            }\n",
      "          }\n",
      "        ]\n",
      "      },\n",
      "      \"coordinate_system\": {\n",
      "        \"subtype\": \"Cartesian\",\n",
      "        \"axis\": [\n",
      "          {\n",
      "            \"name\": \"Easting\",\n",
      "            \"abbreviation\": \"\",\n",
      "            \"direction\": \"east\",\n",
      "            \"unit\": \"metre\"\n",
      "          },\n",
      "          {\n",
      "            \"name\": \"Northing\",\n",
      "            \"abbreviation\": \"\",\n",
      "            \"direction\": \"north\",\n",
      "            \"unit\": \"metre\"\n",
      "          }\n",
      "        ]\n",
      "      },\n",
      "      \"id\": {\n",
      "        \"authority\": \"EPSG\",\n",
      "        \"code\": 32613\n",
      "      }\n",
      "    },\n"
     ]
    },
    {
     "name": "stdout",
     "output_type": "stream",
     "text": [
      "    {\n",
      "      \"type\": \"VerticalCRS\",\n",
      "      \"name\": \"NAVD88 height\",\n",
      "      \"datum\": {\n",
      "        \"type\": \"VerticalReferenceFrame\",\n",
      "        \"name\": \"North American Vertical Datum 1988\"\n",
      "      },\n",
      "      \"coordinate_system\": {\n",
      "        \"subtype\": \"vertical\",\n",
      "        \"axis\": [\n",
      "          {\n",
      "            \"name\": \"Gravity-related height\",\n",
      "            \"abbreviation\": \"\",\n",
      "            \"direction\": \"up\",\n",
      "            \"unit\": \"metre\"\n",
      "          }\n",
      "        ]\n",
      "      },\n",
      "      \"id\": {\n",
      "        \"authority\": \"EPSG\",\n",
      "        \"code\": 5703\n",
      "      }\n",
      "    }\n",
      "  ]\n",
      "},\n",
      "      \"prettycompoundwkt\": \"COMPD_CS[\\\"WGS 84 / UTM zone 13N + NAVD88 height\\\",\\n    PROJCS[\\\"WGS 84 / UTM zone 13N\\\",\\n        GEOGCS[\\\"WGS 84\\\",\\n            DATUM[\\\"WGS_1984\\\",\\n                SPHEROID[\\\"WGS 84\\\",6378137,298.257223563,\\n                    AUTHORITY[\\\"EPSG\\\",\\\"7030\\\"]],\\n                AUTHORITY[\\\"EPSG\\\",\\\"6326\\\"]],\\n            PRIMEM[\\\"Greenwich\\\",0,\\n                AUTHORITY[\\\"EPSG\\\",\\\"8901\\\"]],\\n            UNIT[\\\"degree\\\",0.0174532925199433,\\n                AUTHORITY[\\\"EPSG\\\",\\\"9122\\\"]],\\n            AUTHORITY[\\\"EPSG\\\",\\\"4326\\\"]],\\n        PROJECTION[\\\"Transverse_Mercator\\\"],\\n        PARAMETER[\\\"latitude_of_origin\\\",0],\\n        PARAMETER[\\\"central_meridian\\\",-105],\\n        PARAMETER[\\\"scale_factor\\\",0.9996],\\n        PARAMETER[\\\"false_easting\\\",500000],\\n        PARAMETER[\\\"false_northing\\\",0],\\n        UNIT[\\\"metre\\\",1,\\n            AUTHORITY[\\\"EPSG\\\",\\\"9001\\\"]],\\n        AXIS[\\\"Easting\\\",EAST],\\n        AXIS[\\\"Northing\\\",NORTH],\\n        AUTHORITY[\\\"EPSG\\\",\\\"32613\\\"]],\\n    VERT_CS[\\\"NAVD88 height\\\",\\n        VERT_DATUM[\\\"North American Vertical Datum 1988\\\",2005,\\n            AUTHORITY[\\\"EPSG\\\",\\\"5103\\\"]],\\n        UNIT[\\\"metre\\\",1,\\n            AUTHORITY[\\\"EPSG\\\",\\\"9001\\\"]],\\n        AXIS[\\\"Gravity-related height\\\",UP],\\n        AUTHORITY[\\\"EPSG\\\",\\\"5703\\\"]]]\",\n",
      "      \"prettywkt\": \"PROJCS[\\\"WGS 84 / UTM zone 13N\\\",\\n    GEOGCS[\\\"WGS 84\\\",\\n        DATUM[\\\"WGS_1984\\\",\\n            SPHEROID[\\\"WGS 84\\\",6378137,298.257223563,\\n                AUTHORITY[\\\"EPSG\\\",\\\"7030\\\"]],\\n            AUTHORITY[\\\"EPSG\\\",\\\"6326\\\"]],\\n        PRIMEM[\\\"Greenwich\\\",0,\\n            AUTHORITY[\\\"EPSG\\\",\\\"8901\\\"]],\\n        UNIT[\\\"degree\\\",0.0174532925199433,\\n            AUTHORITY[\\\"EPSG\\\",\\\"9122\\\"]],\\n        AUTHORITY[\\\"EPSG\\\",\\\"4326\\\"]],\\n    PROJECTION[\\\"Transverse_Mercator\\\"],\\n    PARAMETER[\\\"latitude_of_origin\\\",0],\\n    PARAMETER[\\\"central_meridian\\\",-105],\\n    PARAMETER[\\\"scale_factor\\\",0.9996],\\n    PARAMETER[\\\"false_easting\\\",500000],\\n    PARAMETER[\\\"false_northing\\\",0],\\n    UNIT[\\\"metre\\\",1,\\n        AUTHORITY[\\\"EPSG\\\",\\\"9001\\\"]],\\n    AXIS[\\\"Easting\\\",EAST],\\n    AXIS[\\\"Northing\\\",NORTH],\\n    AUTHORITY[\\\"EPSG\\\",\\\"32613\\\"]]\",\n",
      "      \"proj4\": \"+proj=utm +zone=13 +datum=WGS84 +units=m +vunits=m +no_defs\",\n",
      "      \"units\":\n",
      "      {\n",
      "        \"horizontal\": \"metre\",\n",
      "        \"vertical\": \"metre\"\n",
      "      },\n",
      "      \"vertical\": \"VERT_CS[\\\"NAVD88 height\\\",VERT_DATUM[\\\"North American Vertical Datum 1988\\\",2005,AUTHORITY[\\\"EPSG\\\",\\\"5103\\\"]],UNIT[\\\"metre\\\",1,AUTHORITY[\\\"EPSG\\\",\\\"9001\\\"]],AXIS[\\\"Gravity-related height\\\",UP],AUTHORITY[\\\"EPSG\\\",\\\"5703\\\"]]\",\n",
      "      \"wkt\": \"PROJCS[\\\"WGS 84 / UTM zone 13N\\\",GEOGCS[\\\"WGS 84\\\",DATUM[\\\"WGS_1984\\\",SPHEROID[\\\"WGS 84\\\",6378137,298.257223563,AUTHORITY[\\\"EPSG\\\",\\\"7030\\\"]],AUTHORITY[\\\"EPSG\\\",\\\"6326\\\"]],PRIMEM[\\\"Greenwich\\\",0,AUTHORITY[\\\"EPSG\\\",\\\"8901\\\"]],UNIT[\\\"degree\\\",0.0174532925199433,AUTHORITY[\\\"EPSG\\\",\\\"9122\\\"]],AUTHORITY[\\\"EPSG\\\",\\\"4326\\\"]],PROJECTION[\\\"Transverse_Mercator\\\"],PARAMETER[\\\"latitude_of_origin\\\",0],PARAMETER[\\\"central_meridian\\\",-105],PARAMETER[\\\"scale_factor\\\",0.9996],PARAMETER[\\\"false_easting\\\",500000],PARAMETER[\\\"false_northing\\\",0],UNIT[\\\"metre\\\",1,AUTHORITY[\\\"EPSG\\\",\\\"9001\\\"]],AXIS[\\\"Easting\\\",EAST],AXIS[\\\"Northing\\\",NORTH],AUTHORITY[\\\"EPSG\\\",\\\"32613\\\"]]\"\n",
      "    },\n",
      "    \"system_id\": \"PDAL\",\n",
      "    \"vlr_0\":\n",
      "    {\n",
      "      \"data\": \"AQABAAAACwAABAAAAQABAAEEAAABAAEAAgSxhyYAAAABCLGHBwAmAAYIAAABAI4jAAwAAAEAZX8EDAAAAQApIwAQAAABAEcWARCxhw4ALQACEAAAAQDvEwMQAAABACkj\",\n",
      "      \"description\": \"GeoTiff GeoKeyDirectoryTag\",\n",
      "      \"record_id\": 34735,\n",
      "      \"user_id\": \"LASF_Projection\"\n",
      "    },\n",
      "    \"vlr_1\":\n",
      "    {\n",
      "      \"data\": \"V0dTIDg0IC8gVVRNIHpvbmUgMTNOICsgTkFWRDg4IGhlaWdodHxXR1MgODR8TkFWRDg4IGhlaWdodHwA\",\n",
      "      \"description\": \"GeoTiff GeoAsciiParamsTag\",\n",
      "      \"record_id\": 34737,\n",
      "      \"user_id\": \"LASF_Projection\"\n",
      "    },\n",
      "    \"vlr_2\":\n",
      "    {\n",
      "      \"data\": \"AgAAAAMEAwAAAAAAUMMAAP////////////////////8DAAYAFAACAAcACAACAAgABgACAA==\",\n",
      "      \"description\": \"http://laszip.org\",\n",
      "      \"record_id\": 22204,\n",
      "      \"user_id\": \"laszip encoded\"\n",
      "    }\n",
      "  },\n",
      "  \"now\": \"2023-05-01T14:19:36-0600\",\n",
      "  \"pdal_version\": \"2.5.3 (git-version: Release)\",\n",
      "  \"reader\": \"readers.las\"\n",
      "}\n"
     ]
    }
   ],
   "source": [
    "pdal info --metadata ./data/DevilsTower_Ground.laz"
   ]
  },
  {
   "cell_type": "code",
   "execution_count": null,
   "id": "40b1fd34",
   "metadata": {},
   "outputs": [],
   "source": []
  }
 ],
 "metadata": {
  "kernelspec": {
   "display_name": "Bash",
   "language": "bash",
   "name": "bash"
  },
  "language_info": {
   "codemirror_mode": "shell",
   "file_extension": ".sh",
   "mimetype": "text/x-sh",
   "name": "bash"
  }
 },
 "nbformat": 4,
 "nbformat_minor": 5
}
